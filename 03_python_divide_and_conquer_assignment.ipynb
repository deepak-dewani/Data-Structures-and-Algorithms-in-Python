{
  "cells": [
    {
      "cell_type": "markdown",
      "metadata": {
        "id": "view-in-github",
        "colab_type": "text"
      },
      "source": [
        "<a href=\"https://colab.research.google.com/github/deepak-dewani/Data-Structures-and-Algorithms-in-Python/blob/main/03_python_divide_and_conquer_assignment.ipynb\" target=\"_parent\"><img src=\"https://colab.research.google.com/assets/colab-badge.svg\" alt=\"Open In Colab\"/></a>"
      ]
    },
    {
      "cell_type": "code",
      "execution_count": 1,
      "id": "bf056a13",
      "metadata": {
        "colab": {
          "base_uri": "https://localhost:8080/"
        },
        "id": "bf056a13",
        "outputId": "1ddc8960-9192-4ee4-ff59-cbddd97cee02"
      },
      "outputs": [
        {
          "output_type": "stream",
          "name": "stdout",
          "text": [
            "\u001b[?25l\r\u001b[K     |████▊                           | 10 kB 18.9 MB/s eta 0:00:01\r\u001b[K     |█████████▌                      | 20 kB 24.8 MB/s eta 0:00:01\r\u001b[K     |██████████████▎                 | 30 kB 29.0 MB/s eta 0:00:01\r\u001b[K     |███████████████████             | 40 kB 17.4 MB/s eta 0:00:01\r\u001b[K     |███████████████████████▉        | 51 kB 4.2 MB/s eta 0:00:01\r\u001b[K     |████████████████████████████▋   | 61 kB 4.4 MB/s eta 0:00:01\r\u001b[K     |████████████████████████████████| 68 kB 2.2 MB/s \n",
            "\u001b[?25h  Building wheel for uuid (setup.py) ... \u001b[?25l\u001b[?25hdone\n"
          ]
        }
      ],
      "source": [
        "# Jovian Commit Essentials\n",
        "# Please retain and execute this cell without modifying the contents for `jovian.commit` to work\n",
        "!pip install jovian --upgrade -q\n",
        "import jovian\n",
        "jovian.set_project('python-divide-and-conquer-assignment')\n",
        "jovian.set_colab_id('1yrsCQKExQzLWeTAkKN2zdpEcgCayaZQn')"
      ]
    },
    {
      "cell_type": "markdown",
      "id": "difficult-valuation",
      "metadata": {
        "id": "difficult-valuation"
      },
      "source": [
        "# Assignment 3 - Divide-n-Conquer Algorithms in Python\n",
        "\n",
        "_This assignment is a part of the course [\"Data Structures and Algorithms in Python\"](https://jovian.ai/learn/data-structures-and-algorithms-in-python)._\n",
        "\n",
        "In this assignment, you will implement an efficient algorithm for polynomial multiplication.\n",
        "\n",
        "As you go through this notebook, you will find the symbol **???** in certain places. To complete this assignment, you must replace all the **???** with appropriate values, expressions or statements to ensure that the notebook runs properly end-to-end. \n",
        "\n",
        "**Guidelines**\n",
        "\n",
        "1. Make sure to run all the code cells, otherwise you may get errors like `NameError` for undefined variables.\n",
        "2. Do not change variable names, delete cells or disturb other existing code. It may cause problems during evaluation.\n",
        "3. In some cases, you may need to add some code cells or new statements before or after the line of code containing the **???**. \n",
        "4. Since you'll be using a temporary online service for code execution, save your work by running `jovian.commit` at regular intervals.\n",
        "5. Questions marked **(Optional)** will not be considered for evaluation, and can be skipped. They are for your learning.\n",
        "6. If you are stuck, you can ask for help on the [community forum] (TODO - add link). Post errors or ask for hints, but **please don't ask for OR share the full working answer code** on the forum.\n",
        "7. There are some tests included with this notebook to help you test your implementation. However, after submission your code will be tested with some hidden test cases. Make sure to test your code exhaustively to cover all edge cases.\n",
        "\n",
        "\n",
        "**Important Links**\n",
        "\n",
        "* Submit your work here: https://jovian.ai/learn/data-structures-and-algorithms-in-python/assignment/assignment-3-sorting-and-divide-conquer-practice\n",
        "* Ask questions and get help: https://jovian.ai/forum/c/data-structures-and-algorithms-in-python/assignment-3/89\n",
        "* Lesson 3 video for review: https://jovian.ai/learn/data-structures-and-algorithms-in-python/lesson/lesson-3-sorting-algorithms-and-divide-and-conquer\n",
        "* Lesson 3 notebook for review: https://jovian.ai/aakashns/python-sorting-divide-and-conquer\n"
      ]
    },
    {
      "cell_type": "markdown",
      "id": "japanese-beverage",
      "metadata": {
        "id": "japanese-beverage"
      },
      "source": [
        "### How to Run the Code and Save Your Work\n",
        "\n",
        "**Option 1: Running using free online resources (1-click, recommended)**: Click the **Run** button at the top of this page and select **Run on Binder**. You can also select \"Run on Colab\" or \"Run on Kaggle\", but you'll need to create an account on [Google Colab](https://colab.research.google.com) or [Kaggle](https://kaggle.com) to use these platforms.\n",
        "\n",
        "\n",
        "**Option 2: Running on your computer locally**: To run the code on your computer locally, you'll need to set up [Python](https://www.python.org) & [Conda](https://docs.conda.io/projects/conda/en/latest/user-guide/install/), download the notebook and install the required libraries. Click the **Run** button at the top of this page, select the **Run Locally** option, and follow the instructions.\n",
        "\n",
        "**Saving your work**: You can save a snapshot of the assignment to your [Jovian](https://jovian.ai) profile, so that you can access it later and continue your work. Keep saving your work by running `jovian.commit` from time to time."
      ]
    },
    {
      "cell_type": "code",
      "execution_count": 2,
      "id": "revised-italy",
      "metadata": {
        "id": "revised-italy"
      },
      "outputs": [],
      "source": [
        "project='python-divide-and-conquer-assignment'"
      ]
    },
    {
      "cell_type": "code",
      "execution_count": 3,
      "id": "genuine-simon",
      "metadata": {
        "id": "genuine-simon"
      },
      "outputs": [],
      "source": [
        "!pip install jovian --upgrade --quiet"
      ]
    },
    {
      "cell_type": "code",
      "execution_count": 5,
      "id": "velvet-extraction",
      "metadata": {
        "colab": {
          "base_uri": "https://localhost:8080/",
          "height": 87
        },
        "id": "velvet-extraction",
        "outputId": "827a387c-dc85-45c2-81e0-75e7da630ed2"
      },
      "outputs": [
        {
          "output_type": "stream",
          "name": "stdout",
          "text": [
            "[jovian] Detected Colab notebook...\u001b[0m\n",
            "[jovian] Uploading colab notebook to Jovian...\u001b[0m\n",
            "Committed successfully! https://jovian.ai/deepak-dewani/python-divide-and-conquer-assignment\n"
          ]
        },
        {
          "output_type": "execute_result",
          "data": {
            "application/vnd.google.colaboratory.intrinsic+json": {
              "type": "string"
            },
            "text/plain": [
              "'https://jovian.ai/deepak-dewani/python-divide-and-conquer-assignment'"
            ]
          },
          "metadata": {},
          "execution_count": 5
        }
      ],
      "source": [
        "import jovian\n",
        "jovian.commit(project=project, privacy='secret', environment=None)"
      ]
    },
    {
      "cell_type": "markdown",
      "id": "final-database",
      "metadata": {
        "id": "final-database"
      },
      "source": [
        "## Problem Statement - Polynomial Multiplication\n",
        "\n",
        "> Given two polynomials represented by two lists, write a function that efficiently multiplies given two polynomials. For example, the lists `[2, 0, 5, 7]` and `[3, 4, 2]` represent the polynomials $2 + 5x^2 + 7x^3$ and $3 + 4x + 2x^2$. \n",
        "> \n",
        "> Their product is \n",
        ">\n",
        "> $(2 \\times 3) + (2 \\times 4 + 0 \\times 3)x + (2 \\times 2 + 3 \\times 5 + 4 \\times 0)x^2 + (7 \\times 3 + 5 \\times 4 + 0 \\times 2)x^3 + (7 \\times 4 + 5 \\times 2)x^4 + (7 \\times 2)x^5$ i.e. \n",
        ">\n",
        ">$6 + 8x + 19x^2 + 41x^3 + 38x^4 + 14x^5$\n",
        "> \n",
        ">It can be represented by the list `[6, 8, 19, 41, 38, 14]`.\n"
      ]
    },
    {
      "cell_type": "markdown",
      "id": "completed-evolution",
      "metadata": {
        "id": "completed-evolution"
      },
      "source": [
        "## The Method\n",
        "\n",
        "Here's the systematic strategy we'll apply for solving problems:\n",
        "\n",
        "1. State the problem clearly. Identify the input & output formats.\n",
        "2. Come up with some example inputs & outputs. Try to cover all edge cases.\n",
        "3. Come up with a correct solution for the problem. State it in plain English.\n",
        "4. Implement the solution and test it using example inputs. Fix bugs, if any.\n",
        "5. Analyze the algorithm's complexity and identify inefficiencies, if any.\n",
        "6. Apply the right technique to overcome the inefficiency. Repeat steps 3 to 6.\n",
        "\n",
        "This approach is explained in detail in [Lesson 1](https://jovian.ai/learn/data-structures-and-algorithms-in-python/lesson/lesson-1-binary-search-linked-lists-and-complexity) of the course. Let's apply this approach step-by-step."
      ]
    },
    {
      "cell_type": "markdown",
      "id": "compressed-intellectual",
      "metadata": {
        "id": "compressed-intellectual"
      },
      "source": [
        "## Solution\n",
        "\n",
        "\n",
        "### 1. State the problem clearly. Identify the input & output formats.\n",
        "\n",
        "While this problem is stated clearly enough, it's always useful to try and express in your own words, in a way that makes it most clear for you. \n",
        "\n",
        "\n",
        "**Problem**\n",
        "\n",
        "> we are given with the two polynomials, which can be represented by two different lists, and we need to multiply the two polynomials, and the product of the poly will represent the resulted list.\n",
        "\n",
        "<br/>\n",
        "\n",
        "\n",
        "**Input**\n",
        "\n",
        "1. the first list e.g [ 2, 0, 5, 7]\n",
        "2. the second list e.g [ 3, 4, 2]\n",
        "\n",
        "\n",
        "\n",
        "**Output**\n",
        "\n",
        "1. the resulted list e.g [6, 8, 19, 41, 38, 14]\n",
        "\n",
        "\n",
        "<br/>\n",
        "\n",
        "Based on the above, we can now create a signature of our function:"
      ]
    },
    {
      "cell_type": "code",
      "execution_count": 6,
      "id": "frank-professor",
      "metadata": {
        "id": "frank-professor"
      },
      "outputs": [],
      "source": [
        "def multiply(poly1, poly2):\n",
        "    pass"
      ]
    },
    {
      "cell_type": "code",
      "execution_count": 7,
      "id": "unauthorized-amendment",
      "metadata": {
        "id": "unauthorized-amendment"
      },
      "outputs": [],
      "source": [
        "import jovian"
      ]
    },
    {
      "cell_type": "code",
      "execution_count": 8,
      "id": "exposed-extension",
      "metadata": {
        "colab": {
          "base_uri": "https://localhost:8080/",
          "height": 87
        },
        "id": "exposed-extension",
        "outputId": "e72dcd9b-a8eb-4fa9-d146-1122a3c92ee4"
      },
      "outputs": [
        {
          "output_type": "stream",
          "name": "stdout",
          "text": [
            "[jovian] Detected Colab notebook...\u001b[0m\n",
            "[jovian] Uploading colab notebook to Jovian...\u001b[0m\n",
            "Committed successfully! https://jovian.ai/deepak-dewani/python-divide-and-conquer-assignment\n"
          ]
        },
        {
          "output_type": "execute_result",
          "data": {
            "application/vnd.google.colaboratory.intrinsic+json": {
              "type": "string"
            },
            "text/plain": [
              "'https://jovian.ai/deepak-dewani/python-divide-and-conquer-assignment'"
            ]
          },
          "metadata": {},
          "execution_count": 8
        }
      ],
      "source": [
        "jovian.commit()"
      ]
    },
    {
      "cell_type": "markdown",
      "id": "latin-choir",
      "metadata": {
        "id": "latin-choir"
      },
      "source": [
        "### 2. Come up with some example inputs & outputs. Try to cover all edge cases.\n",
        "\n",
        "Our function should be able to handle any set of valid inputs we pass into it. List a few scenarios here:\n",
        "\n",
        "1. two lists with random numbers\n",
        "2. two list with the same number\n",
        "3. one list with the each numbers are same, and another list with random numbers\n",
        "4. an empty one list(can be 1st or 2nd)\n",
        "5. both lists are empty\n",
        "\n",
        "\n",
        "\n",
        "\n",
        "Create a test case of each of the above scenarios. We'll express our test cases as dictionaries, to test them easily. Each dictionary will contain 2 keys: `input` (a dictionary itself containing one key for each argument to the function and `output` (the expected result from the function). "
      ]
    },
    {
      "cell_type": "code",
      "execution_count": 11,
      "id": "fancy-exhaust",
      "metadata": {
        "id": "fancy-exhaust"
      },
      "outputs": [],
      "source": [
        "test0 = {\n",
        "    'input': {\n",
        "        'poly1': [2, 0, 5, 7],\n",
        "        'poly2': [3, 4, 2]\n",
        "    },\n",
        "    'output': [6, 8, 19, 41, 38, 14]\n",
        "}"
      ]
    },
    {
      "cell_type": "code",
      "execution_count": 12,
      "id": "featured-poster",
      "metadata": {
        "id": "featured-poster"
      },
      "outputs": [],
      "source": [
        "test1 = {\n",
        "    'input': {\n",
        "        'poly1': [2, 2, 2, 2],\n",
        "        'poly2': [2, 2, 2, 2]\n",
        "    },\n",
        "    'output': [4, 8, 12, 16, 12, 8, 4]\n",
        "}"
      ]
    },
    {
      "cell_type": "code",
      "execution_count": 14,
      "id": "matched-horizon",
      "metadata": {
        "id": "matched-horizon"
      },
      "outputs": [],
      "source": [
        "test2 = {\n",
        "    'input': {\n",
        "        'poly1': [2, 2, 2, 2],\n",
        "        'poly2': [4, 5, 6]\n",
        "    },\n",
        "    'output': [8, 18, 30, 30, 22, 12]\n",
        "}"
      ]
    },
    {
      "cell_type": "code",
      "execution_count": 76,
      "id": "functional-personal",
      "metadata": {
        "id": "functional-personal"
      },
      "outputs": [],
      "source": [
        "test3 = {\n",
        "    'input': {\n",
        "        'poly1': [0],\n",
        "        'poly2': [0, 1, 3, 4]\n",
        "    },\n",
        "    'output': [0, 0, 0, 0]\n",
        "}"
      ]
    },
    {
      "cell_type": "code",
      "execution_count": 77,
      "id": "useful-alaska",
      "metadata": {
        "id": "useful-alaska"
      },
      "outputs": [],
      "source": [
        "test4 = {\n",
        "    'input': {\n",
        "        'poly1': [0],\n",
        "        'poly2': [0]\n",
        "    },\n",
        "    'output': [0]\n",
        "}"
      ]
    },
    {
      "cell_type": "code",
      "source": [
        "test5 = {\n",
        "    'input': {\n",
        "        'poly1': [0, 2, 4 , 8],\n",
        "        'poly2': [0]\n",
        "    },\n",
        "    'output': [0, 0, 0, 0]\n",
        "}"
      ],
      "metadata": {
        "id": "QPoQ5ZOMt-I7"
      },
      "id": "QPoQ5ZOMt-I7",
      "execution_count": 110,
      "outputs": []
    },
    {
      "cell_type": "code",
      "source": [
        "test6 = {\n",
        "    'input': {\n",
        "        'poly1': [1,2,3,4],\n",
        "        'poly2': [5,6,7,8,9]\n",
        "    },\n",
        "    'output': [5, 16, 34, 60, 70, 70, 59, 36]\n",
        "}"
      ],
      "metadata": {
        "id": "K0snAsaSt-At"
      },
      "id": "K0snAsaSt-At",
      "execution_count": 105,
      "outputs": []
    },
    {
      "cell_type": "markdown",
      "id": "extreme-membrane",
      "metadata": {
        "id": "extreme-membrane"
      },
      "source": [
        "Let's store all the test cases in a list, for easier automated testing."
      ]
    },
    {
      "cell_type": "code",
      "execution_count": 111,
      "id": "emerging-request",
      "metadata": {
        "id": "emerging-request"
      },
      "outputs": [],
      "source": [
        "tests = (test0, test1, test2, test3, test4, test5, test6)"
      ]
    },
    {
      "cell_type": "code",
      "execution_count": 112,
      "id": "noted-tribute",
      "metadata": {
        "colab": {
          "base_uri": "https://localhost:8080/"
        },
        "id": "noted-tribute",
        "outputId": "1cd5997d-3263-4402-db48-c2a88b8aea05"
      },
      "outputs": [
        {
          "output_type": "execute_result",
          "data": {
            "text/plain": [
              "({'input': {'poly1': [2, 0, 5, 7], 'poly2': [3, 4, 2]},\n",
              "  'output': [6, 8, 19, 41, 38, 14]},\n",
              " {'input': {'poly1': [2, 2, 2, 2], 'poly2': [2, 2, 2, 2]},\n",
              "  'output': [4, 8, 12, 16, 12, 8, 4]},\n",
              " {'input': {'poly1': [2, 2, 2, 2], 'poly2': [4, 5, 6]},\n",
              "  'output': [8, 18, 30, 30, 22, 12]},\n",
              " {'input': {'poly1': [0], 'poly2': [0, 1, 3, 4]}, 'output': [0, 0, 0, 0]},\n",
              " {'input': {'poly1': [0], 'poly2': [0]}, 'output': [0]},\n",
              " {'input': {'poly1': [0, 2, 4, 8], 'poly2': [0]}, 'output': [0, 0, 0, 0]},\n",
              " {'input': {'poly1': [1, 2, 3, 4], 'poly2': [5, 6, 7, 8, 9]},\n",
              "  'output': [5, 16, 34, 60, 70, 70, 59, 36]})"
            ]
          },
          "metadata": {},
          "execution_count": 112
        }
      ],
      "source": [
        "tests"
      ]
    },
    {
      "cell_type": "code",
      "execution_count": 88,
      "id": "connected-favor",
      "metadata": {
        "id": "connected-favor"
      },
      "outputs": [],
      "source": [
        "import jovian"
      ]
    },
    {
      "cell_type": "code",
      "execution_count": 89,
      "id": "brave-bracelet",
      "metadata": {
        "colab": {
          "base_uri": "https://localhost:8080/",
          "height": 87
        },
        "id": "brave-bracelet",
        "outputId": "d9eee29d-de80-46d2-ea07-24eaa9f7b05f"
      },
      "outputs": [
        {
          "output_type": "stream",
          "name": "stdout",
          "text": [
            "[jovian] Detected Colab notebook...\u001b[0m\n",
            "[jovian] Uploading colab notebook to Jovian...\u001b[0m\n",
            "Committed successfully! https://jovian.ai/deepak-dewani/python-divide-and-conquer-assignment\n"
          ]
        },
        {
          "output_type": "execute_result",
          "data": {
            "application/vnd.google.colaboratory.intrinsic+json": {
              "type": "string"
            },
            "text/plain": [
              "'https://jovian.ai/deepak-dewani/python-divide-and-conquer-assignment'"
            ]
          },
          "metadata": {},
          "execution_count": 89
        }
      ],
      "source": [
        "jovian.commit()"
      ]
    },
    {
      "cell_type": "markdown",
      "id": "satellite-exclusion",
      "metadata": {
        "id": "satellite-exclusion"
      },
      "source": [
        "### 3. Come up with a correct solution for the problem. State it in plain English.\n",
        "\n",
        "Our first goal should always be to come up with a _correct_ solution to the problem, which may not necessarily be the most _efficient_ solution. \n",
        "\n",
        "Here's the simplest solution: If you have lists `poly1` and `poly2` representing polynomials of length $m$ and $n$ respectively, the highest degree of the exponents are $m-1$ and $n-1$ respectively. Their product has the degree $(m - 1) + (n - 1)$ i.e $m + n - 2$. The list representing the product has the length $m + n - 1$. So, we can create a list `result` of length $m + n - 1$, and set \n",
        "\n",
        "`result[k]` = Sum of all the pairs `poly1[i] * poly2[j]` where `i+j = k`\n",
        "\n",
        "Example:\n",
        "\n",
        "$(2 + 5x^2 + 7x^3) \\times (3 + 4x + 2x^2)$\n",
        "\n",
        "$= (2 \\times 3) + (2 \\times 4 + 0 \\times 3)x + (2 \\times 2 + 3 \\times 5 + 4 \\times 0)x^2 + (7 \\times 3 + 5 \\times 4 + 0 \\times 2)x^3 + (7 \\times 4 + 5 \\times 2)x^4 + (7 \\times 2)x^5$\n",
        "\n",
        "$= 6 + 8x + 19x^2 + 41x^3 + 38x^4 + 14x^5$\n",
        "\n",
        "\n",
        "\n",
        "\n",
        "\n",
        "\n",
        "Explain this solution in your own words below:\n",
        "\n",
        "1. m = len(poly1) and n =len(poly2)\n",
        "2. product[], initially all elements are set to 0.\n",
        "3. transverse the first poly1 and multiply with the elememts of B.\n",
        "4. transverse the first poly1 and multiply with the elememts of B.\n",
        "5. prod[i+j] = prod[i+j] + A[i]*B[j]\n",
        "6. return prod[]\n",
        "\n",
        "\n",
        "\n",
        "\n",
        "Let's save and upload our work before continuing.\n",
        "\n"
      ]
    },
    {
      "cell_type": "code",
      "execution_count": 90,
      "id": "relevant-initial",
      "metadata": {
        "id": "relevant-initial"
      },
      "outputs": [],
      "source": [
        "import jovian"
      ]
    },
    {
      "cell_type": "code",
      "execution_count": 91,
      "id": "fatty-rolling",
      "metadata": {
        "colab": {
          "base_uri": "https://localhost:8080/",
          "height": 87
        },
        "id": "fatty-rolling",
        "outputId": "037e32fc-5934-4d55-df8c-89c2919e4e40"
      },
      "outputs": [
        {
          "output_type": "stream",
          "name": "stdout",
          "text": [
            "[jovian] Detected Colab notebook...\u001b[0m\n",
            "[jovian] Uploading colab notebook to Jovian...\u001b[0m\n",
            "Committed successfully! https://jovian.ai/deepak-dewani/python-divide-and-conquer-assignment\n"
          ]
        },
        {
          "output_type": "execute_result",
          "data": {
            "application/vnd.google.colaboratory.intrinsic+json": {
              "type": "string"
            },
            "text/plain": [
              "'https://jovian.ai/deepak-dewani/python-divide-and-conquer-assignment'"
            ]
          },
          "metadata": {},
          "execution_count": 91
        }
      ],
      "source": [
        "jovian.commit()"
      ]
    },
    {
      "cell_type": "markdown",
      "id": "lucky-boxing",
      "metadata": {
        "id": "lucky-boxing"
      },
      "source": [
        "###  4. Implement the solution and test it using example inputs. Fix bugs, if any.\n",
        "\n",
        "Implement the solution"
      ]
    },
    {
      "cell_type": "code",
      "execution_count": 92,
      "id": "grateful-chile",
      "metadata": {
        "id": "grateful-chile"
      },
      "outputs": [],
      "source": [
        "def multiply_basic(poly1, poly2):\n",
        "  m = len(poly1)\n",
        "  n = len(poly2)\n",
        "\n",
        "  result = [0]*(m+n-1)\n",
        "  # print(result)\n",
        "\n",
        "  # Now multiplying each term by another term\n",
        "\n",
        "  # taking first poly coefficient\n",
        "  for i in range(m):\n",
        "    # Multiply the each term of first with second\n",
        "    for j in range(n):\n",
        "      if poly1 is None and poly2 is None:\n",
        "        return 0\n",
        "      else:\n",
        "        result[i + j] += poly1[i]*poly2[j]\n",
        "\n",
        "  return result\n",
        "    "
      ]
    },
    {
      "cell_type": "markdown",
      "id": "casual-bicycle",
      "metadata": {
        "id": "casual-bicycle"
      },
      "source": [
        "Test your solution using the test cases you've defined above."
      ]
    },
    {
      "cell_type": "code",
      "source": [
        "nums0 = test0['input']['poly1']\n",
        "num1 = test0['input']['poly2']\n",
        "output0 =  test0['output']\n",
        "\n",
        "print('Input:', nums0, num1)\n",
        "print('Expected output:', output0)\n",
        "\n",
        "result0 = multiply_basic(nums0, num1)\n",
        "\n",
        "print('Actual output:', result0)\n",
        "print('Match:', result0 == output0)\n"
      ],
      "metadata": {
        "colab": {
          "base_uri": "https://localhost:8080/"
        },
        "id": "38UmVMbMlnsP",
        "outputId": "8fc6137d-aa5d-4f52-e787-c582b2ba9338"
      },
      "id": "38UmVMbMlnsP",
      "execution_count": 108,
      "outputs": [
        {
          "output_type": "stream",
          "name": "stdout",
          "text": [
            "Input: [2, 0, 5, 7] [3, 4, 2]\n",
            "Expected output: [6, 8, 19, 41, 38, 14]\n",
            "Actual output: [6, 8, 19, 41, 38, 14]\n",
            "Match: True\n"
          ]
        }
      ]
    },
    {
      "cell_type": "code",
      "source": [
        "!pip install jovian --upgrade --quiet\n"
      ],
      "metadata": {
        "id": "dUsrf1r-lno2"
      },
      "id": "dUsrf1r-lno2",
      "execution_count": 94,
      "outputs": []
    },
    {
      "cell_type": "code",
      "source": [
        "import jovian"
      ],
      "metadata": {
        "id": "TkhTMzPulnj6"
      },
      "id": "TkhTMzPulnj6",
      "execution_count": 95,
      "outputs": []
    },
    {
      "cell_type": "code",
      "source": [
        "from jovian.pythondsa import evaluate_test_cases"
      ],
      "metadata": {
        "id": "1ZbYmqezpPgB"
      },
      "id": "1ZbYmqezpPgB",
      "execution_count": 96,
      "outputs": []
    },
    {
      "cell_type": "code",
      "source": [
        "result = evaluate_test_cases(multiply_basic, tests)"
      ],
      "metadata": {
        "colab": {
          "base_uri": "https://localhost:8080/"
        },
        "id": "8DF_hUoopRR1",
        "outputId": "ff494057-bf01-455e-b8ff-e5326cd4c9c4"
      },
      "id": "8DF_hUoopRR1",
      "execution_count": 113,
      "outputs": [
        {
          "output_type": "stream",
          "name": "stdout",
          "text": [
            "\n",
            "\u001b[1mTEST CASE #0\u001b[0m\n",
            "\n",
            "Input:\n",
            "{'poly1': [2, 0, 5, 7], 'poly2': [3, 4, 2]}\n",
            "\n",
            "Expected Output:\n",
            "[6, 8, 19, 41, 38, 14]\n",
            "\n",
            "\n",
            "Actual Output:\n",
            "[6, 8, 19, 41, 38, 14]\n",
            "\n",
            "Execution Time:\n",
            "0.016 ms\n",
            "\n",
            "Test Result:\n",
            "\u001b[92mPASSED\u001b[0m\n",
            "\n",
            "\n",
            "\u001b[1mTEST CASE #1\u001b[0m\n",
            "\n",
            "Input:\n",
            "{'poly1': [2, 2, 2, 2], 'poly2': [2, 2, 2, 2]}\n",
            "\n",
            "Expected Output:\n",
            "[4, 8, 12, 16, 12, 8, 4]\n",
            "\n",
            "\n",
            "Actual Output:\n",
            "[4, 8, 12, 16, 12, 8, 4]\n",
            "\n",
            "Execution Time:\n",
            "0.016 ms\n",
            "\n",
            "Test Result:\n",
            "\u001b[92mPASSED\u001b[0m\n",
            "\n",
            "\n",
            "\u001b[1mTEST CASE #2\u001b[0m\n",
            "\n",
            "Input:\n",
            "{'poly1': [2, 2, 2, 2], 'poly2': [4, 5, 6]}\n",
            "\n",
            "Expected Output:\n",
            "[8, 18, 30, 30, 22, 12]\n",
            "\n",
            "\n",
            "Actual Output:\n",
            "[8, 18, 30, 30, 22, 12]\n",
            "\n",
            "Execution Time:\n",
            "0.012 ms\n",
            "\n",
            "Test Result:\n",
            "\u001b[92mPASSED\u001b[0m\n",
            "\n",
            "\n",
            "\u001b[1mTEST CASE #3\u001b[0m\n",
            "\n",
            "Input:\n",
            "{'poly1': [0], 'poly2': [0, 1, 3, 4]}\n",
            "\n",
            "Expected Output:\n",
            "[0, 0, 0, 0]\n",
            "\n",
            "\n",
            "Actual Output:\n",
            "[0, 0, 0, 0]\n",
            "\n",
            "Execution Time:\n",
            "0.008 ms\n",
            "\n",
            "Test Result:\n",
            "\u001b[92mPASSED\u001b[0m\n",
            "\n",
            "\n",
            "\u001b[1mTEST CASE #4\u001b[0m\n",
            "\n",
            "Input:\n",
            "{'poly1': [0], 'poly2': [0]}\n",
            "\n",
            "Expected Output:\n",
            "[0]\n",
            "\n",
            "\n",
            "Actual Output:\n",
            "[0]\n",
            "\n",
            "Execution Time:\n",
            "0.005 ms\n",
            "\n",
            "Test Result:\n",
            "\u001b[92mPASSED\u001b[0m\n",
            "\n",
            "\n",
            "\u001b[1mTEST CASE #5\u001b[0m\n",
            "\n",
            "Input:\n",
            "{'poly1': [0, 2, 4, 8], 'poly2': [0]}\n",
            "\n",
            "Expected Output:\n",
            "[0, 0, 0, 0]\n",
            "\n",
            "\n",
            "Actual Output:\n",
            "[0, 0, 0, 0]\n",
            "\n",
            "Execution Time:\n",
            "0.008 ms\n",
            "\n",
            "Test Result:\n",
            "\u001b[92mPASSED\u001b[0m\n",
            "\n",
            "\n",
            "\u001b[1mTEST CASE #6\u001b[0m\n",
            "\n",
            "Input:\n",
            "{'poly1': [1, 2, 3, 4], 'poly2': [5, 6, 7, 8, 9]}\n",
            "\n",
            "Expected Output:\n",
            "[5, 16, 34, 60, 70, 70, 59, 36]\n",
            "\n",
            "\n",
            "Actual Output:\n",
            "[5, 16, 34, 60, 70, 70, 59, 36]\n",
            "\n",
            "Execution Time:\n",
            "0.013 ms\n",
            "\n",
            "Test Result:\n",
            "\u001b[92mPASSED\u001b[0m\n",
            "\n",
            "\n",
            "\u001b[1mSUMMARY\u001b[0m\n",
            "\n",
            "TOTAL: 7, \u001b[92mPASSED\u001b[0m: 7, \u001b[91mFAILED\u001b[0m: 0\n"
          ]
        }
      ]
    },
    {
      "cell_type": "code",
      "execution_count": 114,
      "id": "recreational-regulation",
      "metadata": {
        "colab": {
          "base_uri": "https://localhost:8080/",
          "height": 87
        },
        "id": "recreational-regulation",
        "outputId": "1d37ff88-c520-4cf9-ddb4-697e75bc3524"
      },
      "outputs": [
        {
          "output_type": "stream",
          "name": "stdout",
          "text": [
            "[jovian] Detected Colab notebook...\u001b[0m\n",
            "[jovian] Uploading colab notebook to Jovian...\u001b[0m\n",
            "Committed successfully! https://jovian.ai/deepak-dewani/python-divide-and-conquer-assignment\n"
          ]
        },
        {
          "output_type": "execute_result",
          "data": {
            "application/vnd.google.colaboratory.intrinsic+json": {
              "type": "string"
            },
            "text/plain": [
              "'https://jovian.ai/deepak-dewani/python-divide-and-conquer-assignment'"
            ]
          },
          "metadata": {},
          "execution_count": 114
        }
      ],
      "source": [
        "jovian.commit()"
      ]
    },
    {
      "cell_type": "markdown",
      "id": "associate-platform",
      "metadata": {
        "id": "associate-platform"
      },
      "source": [
        "### 5. Analyze the algorithm's complexity and identify inefficiencies, if any.\n",
        "\n",
        "Can you analyze the time and space complexity of this algorithm?"
      ]
    },
    {
      "cell_type": "code",
      "execution_count": 115,
      "id": "aerial-motorcycle",
      "metadata": {
        "id": "aerial-motorcycle"
      },
      "outputs": [],
      "source": [
        "multiply_basic_time_complexity = 'O(n^2))'"
      ]
    },
    {
      "cell_type": "code",
      "execution_count": 116,
      "id": "sustained-chicago",
      "metadata": {
        "id": "sustained-chicago"
      },
      "outputs": [],
      "source": [
        "multiply_basic_space_complexity = 'O(m + n)'"
      ]
    },
    {
      "cell_type": "code",
      "execution_count": 117,
      "id": "accompanied-thailand",
      "metadata": {
        "id": "accompanied-thailand"
      },
      "outputs": [],
      "source": [
        "import jovian"
      ]
    },
    {
      "cell_type": "code",
      "execution_count": 118,
      "id": "egyptian-stranger",
      "metadata": {
        "colab": {
          "base_uri": "https://localhost:8080/",
          "height": 87
        },
        "id": "egyptian-stranger",
        "outputId": "5c8c2550-e4f1-44c5-bc37-7bd658eba072"
      },
      "outputs": [
        {
          "output_type": "stream",
          "name": "stdout",
          "text": [
            "[jovian] Detected Colab notebook...\u001b[0m\n",
            "[jovian] Uploading colab notebook to Jovian...\u001b[0m\n",
            "Committed successfully! https://jovian.ai/deepak-dewani/python-divide-and-conquer-assignment\n"
          ]
        },
        {
          "output_type": "execute_result",
          "data": {
            "application/vnd.google.colaboratory.intrinsic+json": {
              "type": "string"
            },
            "text/plain": [
              "'https://jovian.ai/deepak-dewani/python-divide-and-conquer-assignment'"
            ]
          },
          "metadata": {},
          "execution_count": 118
        }
      ],
      "source": [
        "jovian.commit()"
      ]
    },
    {
      "cell_type": "markdown",
      "id": "honey-desire",
      "metadata": {
        "id": "honey-desire"
      },
      "source": [
        "### 6. Apply the right technique to overcome the inefficiency. Repeat steps 3 to 6.\n",
        "\n",
        "We can apply the divide and conquer technique to solve this problem more efficiently. Given two polynomials `A` and `B`, we can express each of them as a sum of two polynomials as follows:\n",
        "\n",
        "<img src=\"https://i.imgur.com/FjKQF5h.png\" width=\"480\">\n",
        "\n",
        "We need to compute the terms `A0 * B0`, `A1 * B0 + A0 * B1` and `A1 * B1`. This can obviously be done using 4 multiplications, but here's a way of doing it with just three multiplications:\n",
        "\n",
        "<img src=\"https://i.imgur.com/G3vD1GX.png\" width=\"480\">\n",
        "\n",
        "\n",
        "Each of the products can themselves be computed recursively. For a more detailed explanation of this approach see http://www.cse.ust.hk/~dekai/271/notes/L03/L03.pdf .\n",
        "\n",
        "\n",
        "Need help? Discuss and ask questions on the forum: https://jovian.ai/forum/c/data-structures-and-algorithms-in-python/assignment-3/89\n"
      ]
    },
    {
      "cell_type": "markdown",
      "id": "parliamentary-spray",
      "metadata": {
        "id": "parliamentary-spray"
      },
      "source": [
        "### 7. Come up with a correct solution for the problem. State it in plain English.\n",
        "\n",
        "Explain the approach described above in your own words below:\n",
        "\n",
        "1. **???**\n",
        "2. **???**\n",
        "3. **???**\n",
        "4. **???**\n",
        "5. **???**\n",
        "\n",
        "(add more steps if required)\n",
        "\n",
        "\n",
        "Let's save and upload our work before continuing."
      ]
    },
    {
      "cell_type": "code",
      "execution_count": null,
      "id": "recreational-occurrence",
      "metadata": {
        "id": "recreational-occurrence"
      },
      "outputs": [],
      "source": [
        "import jovian"
      ]
    },
    {
      "cell_type": "code",
      "execution_count": null,
      "id": "flexible-snake",
      "metadata": {
        "id": "flexible-snake"
      },
      "outputs": [],
      "source": [
        "jovian.commit()"
      ]
    },
    {
      "cell_type": "markdown",
      "id": "corresponding-gasoline",
      "metadata": {
        "id": "corresponding-gasoline"
      },
      "source": [
        "### 8. Implement the solution and test it using example inputs. Fix bugs, if any.\n",
        "\n",
        "We are now ready to implement the solution. You may find the following functions `add`, `split` and `increase_exponent` useful.\n"
      ]
    },
    {
      "cell_type": "code",
      "execution_count": null,
      "id": "planned-budapest",
      "metadata": {
        "id": "planned-budapest"
      },
      "outputs": [],
      "source": [
        "def add(poly1, poly2):\n",
        "    \"\"\"Add two polynomials\"\"\"\n",
        "    result = [0] * max(len(poly1), len(poly2))\n",
        "    for i in range(len(result)):\n",
        "        if i < len(poly1):\n",
        "            result[i] += poly1[i]\n",
        "        if i < len(poly2):\n",
        "            result[i] += poly2[i]\n",
        "    return result"
      ]
    },
    {
      "cell_type": "code",
      "execution_count": null,
      "id": "amazing-sympathy",
      "metadata": {
        "id": "amazing-sympathy"
      },
      "outputs": [],
      "source": [
        "add([1, 2, 3, 4], [0, 4, 3])"
      ]
    },
    {
      "cell_type": "code",
      "execution_count": null,
      "id": "objective-stone",
      "metadata": {
        "id": "objective-stone"
      },
      "outputs": [],
      "source": [
        "def split(poly1, poly2):\n",
        "    \"\"\"Split each polynomial into two smaller polynomials\"\"\"\n",
        "    mid = max(len(poly1), len(poly2)) // 2\n",
        "    return  (poly1[:mid], poly1[mid:]), (poly2[:mid], poly2[mid:])"
      ]
    },
    {
      "cell_type": "code",
      "execution_count": null,
      "id": "saving-folder",
      "metadata": {
        "id": "saving-folder"
      },
      "outputs": [],
      "source": [
        "split([1, 2, 3, 4], [0, 4, 3, 6, 7, 8, 2])"
      ]
    },
    {
      "cell_type": "code",
      "execution_count": null,
      "id": "ethical-bradford",
      "metadata": {
        "id": "ethical-bradford"
      },
      "outputs": [],
      "source": [
        "def increase_exponent(poly, n):\n",
        "    \"\"\"Multiply poly1 by x^n\"\"\"\n",
        "    return [0] * n + poly"
      ]
    },
    {
      "cell_type": "code",
      "execution_count": null,
      "id": "saving-arrangement",
      "metadata": {
        "id": "saving-arrangement"
      },
      "outputs": [],
      "source": [
        "increase_exponent([1, 2, 3, 4], 3)"
      ]
    },
    {
      "cell_type": "markdown",
      "id": "under-effectiveness",
      "metadata": {
        "id": "under-effectiveness"
      },
      "source": [
        "Implement the optimized multiplication algorithm below. You may use the some or all of the helper functions defined above."
      ]
    },
    {
      "cell_type": "code",
      "execution_count": null,
      "id": "starting-characterization",
      "metadata": {
        "id": "starting-characterization"
      },
      "outputs": [],
      "source": [
        "def multiply_optimized(poly1, poly2):\n",
        "    ???"
      ]
    },
    {
      "cell_type": "code",
      "execution_count": null,
      "id": "delayed-terrace",
      "metadata": {
        "id": "delayed-terrace"
      },
      "outputs": [],
      "source": [
        ""
      ]
    },
    {
      "cell_type": "markdown",
      "id": "novel-scout",
      "metadata": {
        "id": "novel-scout"
      },
      "source": [
        "Test your solution using the empty cells below."
      ]
    },
    {
      "cell_type": "code",
      "execution_count": null,
      "id": "operating-ecology",
      "metadata": {
        "id": "operating-ecology"
      },
      "outputs": [],
      "source": [
        ""
      ]
    },
    {
      "cell_type": "code",
      "execution_count": null,
      "id": "adverse-tamil",
      "metadata": {
        "id": "adverse-tamil"
      },
      "outputs": [],
      "source": [
        ""
      ]
    },
    {
      "cell_type": "code",
      "execution_count": null,
      "id": "local-pharmacology",
      "metadata": {
        "id": "local-pharmacology"
      },
      "outputs": [],
      "source": [
        ""
      ]
    },
    {
      "cell_type": "code",
      "execution_count": null,
      "id": "treated-hayes",
      "metadata": {
        "id": "treated-hayes"
      },
      "outputs": [],
      "source": [
        ""
      ]
    },
    {
      "cell_type": "code",
      "execution_count": null,
      "id": "maritime-yorkshire",
      "metadata": {
        "id": "maritime-yorkshire"
      },
      "outputs": [],
      "source": [
        ""
      ]
    },
    {
      "cell_type": "code",
      "execution_count": null,
      "id": "southwest-aluminum",
      "metadata": {
        "id": "southwest-aluminum"
      },
      "outputs": [],
      "source": [
        ""
      ]
    },
    {
      "cell_type": "code",
      "execution_count": null,
      "id": "stable-korea",
      "metadata": {
        "id": "stable-korea"
      },
      "outputs": [],
      "source": [
        "import jovian"
      ]
    },
    {
      "cell_type": "code",
      "execution_count": null,
      "id": "nominated-thousand",
      "metadata": {
        "id": "nominated-thousand"
      },
      "outputs": [],
      "source": [
        "jovian.commit()"
      ]
    },
    {
      "cell_type": "markdown",
      "id": "documented-leisure",
      "metadata": {
        "id": "documented-leisure"
      },
      "source": [
        "## Make a Submission\n",
        "\n",
        "Congrats! You have now implemented hash tables from scratch. The rest of this assignment is optional.\n",
        "\n",
        "You can make a submission on this page: https://jovian.ai/learn/data-structures-and-algorithms-in-python/assignment/assignment-3-sorting-and-divide-conquer-practice\n",
        "\n",
        "Submit the link to your Jovian notebook (the output of the previous cell).\n",
        "You can also make a direct submission by executing the following cell:"
      ]
    },
    {
      "cell_type": "code",
      "execution_count": null,
      "id": "superior-windows",
      "metadata": {
        "id": "superior-windows"
      },
      "outputs": [],
      "source": [
        "jovian.submit(assignment=\"pythondsa-assignment3\")"
      ]
    },
    {
      "cell_type": "markdown",
      "id": "early-norfolk",
      "metadata": {
        "id": "early-norfolk"
      },
      "source": [
        "### (Optional) 9. Analyze the algorithm's complexity and identify inefficiencies, if any.\n",
        "\n",
        "Can you analyze the time and space complexity of this algorithm? \n",
        "\n",
        "Hint: See the tree of subproblems below ([source](https://myithelpcentral.blogspot.com/2015/09/o-logn-notation-explanation-for-binary.html)). Substitute the right values for `n` and `b` to determine the time complexity.\n",
        "\n",
        "![](https://i.imgur.com/JAmZrE5.png)"
      ]
    },
    {
      "cell_type": "code",
      "execution_count": null,
      "id": "controlling-merchandise",
      "metadata": {
        "id": "controlling-merchandise"
      },
      "outputs": [],
      "source": [
        "import jovian"
      ]
    },
    {
      "cell_type": "code",
      "execution_count": null,
      "id": "ranging-testing",
      "metadata": {
        "id": "ranging-testing"
      },
      "outputs": [],
      "source": [
        "jovian.commit()"
      ]
    }
  ],
  "metadata": {
    "kernelspec": {
      "display_name": "Python 3 (ipykernel)",
      "language": "python",
      "name": "python3"
    },
    "language_info": {
      "codemirror_mode": {
        "name": "ipython",
        "version": 3
      },
      "file_extension": ".py",
      "mimetype": "text/x-python",
      "name": "python",
      "nbconvert_exporter": "python",
      "pygments_lexer": "ipython3",
      "version": "3.9.6"
    },
    "colab": {
      "name": "03_python-divide-and-conquer-assignment.ipynb",
      "provenance": [],
      "collapsed_sections": [
        "honey-desire",
        "early-norfolk"
      ],
      "include_colab_link": true
    }
  },
  "nbformat": 4,
  "nbformat_minor": 5
}
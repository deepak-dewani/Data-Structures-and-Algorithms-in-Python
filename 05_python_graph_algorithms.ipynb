{
  "cells": [
    {
      "cell_type": "markdown",
      "metadata": {
        "id": "view-in-github",
        "colab_type": "text"
      },
      "source": [
        "<a href=\"https://colab.research.google.com/github/deepak-dewani/Data-Structures-and-Algorithms-in-Python/blob/main/05_python_graph_algorithms.ipynb\" target=\"_parent\"><img src=\"https://colab.research.google.com/assets/colab-badge.svg\" alt=\"Open In Colab\"/></a>"
      ]
    },
    {
      "cell_type": "code",
      "execution_count": null,
      "id": "4c6c696e",
      "metadata": {
        "colab": {
          "base_uri": "https://localhost:8080/"
        },
        "id": "4c6c696e",
        "outputId": "38b18934-e060-4cf8-9daf-2a9eb1e61294"
      },
      "outputs": [
        {
          "output_type": "stream",
          "name": "stdout",
          "text": [
            "\u001b[?25l\r\u001b[K     |████▊                           | 10 kB 23.9 MB/s eta 0:00:01\r\u001b[K     |█████████▌                      | 20 kB 10.1 MB/s eta 0:00:01\r\u001b[K     |██████████████▎                 | 30 kB 6.5 MB/s eta 0:00:01\r\u001b[K     |███████████████████             | 40 kB 6.0 MB/s eta 0:00:01\r\u001b[K     |███████████████████████▉        | 51 kB 2.8 MB/s eta 0:00:01\r\u001b[K     |████████████████████████████▋   | 61 kB 3.3 MB/s eta 0:00:01\r\u001b[K     |████████████████████████████████| 68 kB 2.6 MB/s \n",
            "\u001b[?25h  Building wheel for uuid (setup.py) ... \u001b[?25l\u001b[?25hdone\n"
          ]
        }
      ],
      "source": [
        "# Jovian Commit Essentials\n",
        "# Please retain and execute this cell without modifying the contents for `jovian.commit` to work\n",
        "!pip install jovian --upgrade -q\n",
        "import jovian\n",
        "jovian.set_project('python-graph-algorithms')\n",
        "jovian.set_colab_id('1jo3B_udXl9vhxsy7x4elcKj43uz4Wps5')"
      ]
    },
    {
      "cell_type": "markdown",
      "id": "variable-garbage",
      "metadata": {
        "id": "variable-garbage"
      },
      "source": [
        "# Graph Algorithms (BFS, DFS, Shortest Paths) using Python\n",
        "\n",
        "### Part 5 of \"Data Structures and Algorithms in Python\"\n",
        "\n",
        "[Data Structures and Algorithms in Python](https://jovian.ai/learn/data-structures-and-algorithms-in-python) is a beginner-friendly introduction to common data structures (linked lists, stacks, queues, graphs) and algorithms (search, sorting, recursion, dynamic programming) in Python, designed to help you prepare for coding interviews and assessments. \n",
        "\n",
        "Ask questions, get help & participate in discussions on the [course community forum](https://jovian.ai/forum/c/data-structures-and-algorithms-in-python/78). Earn a verified certificate of accomplishment for this course by signing up here: http://pythondsa.com.  \n",
        "\n"
      ]
    },
    {
      "cell_type": "markdown",
      "id": "acceptable-clearance",
      "metadata": {
        "id": "acceptable-clearance"
      },
      "source": [
        "### How to Run the Code\n",
        "\n",
        "The best way to learn the material is to execute the code and experiment with it yourself. This tutorial is an executable [Jupyter notebook](https://jupyter.org). You can _run_ this tutorial and experiment with the code examples in a couple of ways: *using free online resources* (recommended) or *on your computer*.\n",
        "\n",
        "#### Option 1: Running using free online resources (1-click, recommended)\n",
        "\n",
        "The easiest way to start executing the code is to click the **Run** button at the top of this page and select **Run on Binder**. You can also select \"Run on Colab\" or \"Run on Kaggle\", but you'll need to create an account on [Google Colab](https://colab.research.google.com) or [Kaggle](https://kaggle.com) to use these platforms.\n",
        "\n",
        "\n",
        "#### Option 2: Running on your computer locally\n",
        "\n",
        "To run the code on your computer locally, you'll need to set up [Python](https://www.python.org), download the notebook and install the required libraries. We recommend using the [Conda](https://docs.conda.io/projects/conda/en/latest/user-guide/install/) distribution of Python. Click the **Run** button at the top of this page, select the **Run Locally** option, and follow the instructions.\n",
        "\n"
      ]
    },
    {
      "cell_type": "markdown",
      "id": "polyphonic-brisbane",
      "metadata": {
        "id": "polyphonic-brisbane"
      },
      "source": [
        "## Graphs in the Real World\n",
        "\n",
        "### Railway network\n",
        "\n",
        "![](https://i.imgur.com/uSF6AEJ.png)\n",
        "\n",
        "### Flight routes\n",
        "\n",
        "![](https://www.mapsales.com/products/mapsofworld/images/zoom/world-air-route-wall-map.gif)\n",
        "\n",
        "### Hyperlinks\n",
        "\n",
        "![](https://i.imgur.com/hlGDYn2.png)"
      ]
    },
    {
      "cell_type": "markdown",
      "id": "stretch-superior",
      "metadata": {
        "id": "stretch-superior"
      },
      "source": [
        "## Graph Data Strucutre\n",
        "\n",
        "![](https://i.imgur.com/xkgMnwx.png)\n",
        "\n"
      ]
    },
    {
      "cell_type": "code",
      "source": [
        "n = 5\n",
        "edges = ((0,1), (1,2), (2,3), (3,4), (0,4), (1,4), (1,3))\n",
        "\n",
        "m = len(edges)\n",
        "\n",
        "n, m"
      ],
      "metadata": {
        "colab": {
          "base_uri": "https://localhost:8080/"
        },
        "id": "g34XTnXAqDaK",
        "outputId": "fa460bef-0030-4aff-9b11-0e5a47487102"
      },
      "id": "g34XTnXAqDaK",
      "execution_count": null,
      "outputs": [
        {
          "output_type": "execute_result",
          "data": {
            "text/plain": [
              "(5, 7)"
            ]
          },
          "metadata": {},
          "execution_count": 3
        }
      ]
    },
    {
      "cell_type": "markdown",
      "id": "white-outdoors",
      "metadata": {
        "id": "white-outdoors"
      },
      "source": [
        "### Adjacency Lists\n",
        "\n",
        "![](https://i.imgur.com/rgMwkIW.png)\n",
        "\n",
        "\n",
        "> **Question**: Create a class to represent a graph as an adjacency list in Python"
      ]
    },
    {
      "cell_type": "code",
      "execution_count": null,
      "id": "premium-prison",
      "metadata": {
        "id": "premium-prison"
      },
      "outputs": [],
      "source": [
        "class Graph:\n",
        "  def __init__(self, n_vertices, edges):\n",
        "    self.data = [[] for _ in range(n_vertices)]\n",
        "\n",
        "    for v1, v2 in edges:\n",
        "      self.data[v1].append(v2)\n",
        "      self.data[v2].append(v1)"
      ]
    },
    {
      "cell_type": "code",
      "execution_count": null,
      "id": "improving-section",
      "metadata": {
        "id": "improving-section"
      },
      "outputs": [],
      "source": [
        "graph1 = Graph(n, edges)"
      ]
    },
    {
      "cell_type": "code",
      "execution_count": null,
      "id": "speaking-routine",
      "metadata": {
        "colab": {
          "base_uri": "https://localhost:8080/"
        },
        "id": "speaking-routine",
        "outputId": "730e61be-e889-4af8-eb2f-24eb20d2680f"
      },
      "outputs": [
        {
          "output_type": "execute_result",
          "data": {
            "text/plain": [
              "[[1, 4], [0, 2, 4, 3], [1, 3], [2, 4, 1], [3, 0, 1]]"
            ]
          },
          "metadata": {},
          "execution_count": 12
        }
      ],
      "source": [
        "graph1.data"
      ]
    },
    {
      "cell_type": "markdown",
      "id": "english-action",
      "metadata": {
        "id": "english-action"
      },
      "source": [
        "> **Question**: Write a function to add an edge to a graph represented as an adjacency list. \n",
        "\n",
        "> **Question**: Write a function to remove an edge from a graph represented as a adjacency list.\n"
      ]
    },
    {
      "cell_type": "code",
      "source": [
        "class Graph:\n",
        "  def __init__(self, n_vertices, edges):\n",
        "    self.data = [[] for _ in range(n_vertices)]\n",
        "\n",
        "    for v1, v2 in edges:\n",
        "      self.data[v1].append(v2)\n",
        "      self.data[v2].append(v1)\n",
        "\n",
        "  def __repr__(self):\n",
        "    result = ''\n",
        "    for i, nodes in enumerate(self.data):\n",
        "      result += str(i) + ': ' + str(nodes) + '\\n'\n",
        "    return result\n",
        "  \n",
        "  def __str__(self):\n",
        "    return self.__repr__()"
      ],
      "metadata": {
        "id": "_X2nCJk6uX4y"
      },
      "id": "_X2nCJk6uX4y",
      "execution_count": null,
      "outputs": []
    },
    {
      "cell_type": "code",
      "source": [
        "graph1 = Graph( n, edges)\n"
      ],
      "metadata": {
        "id": "qCIfmjcYuXqS"
      },
      "id": "qCIfmjcYuXqS",
      "execution_count": null,
      "outputs": []
    },
    {
      "cell_type": "code",
      "source": [
        "graph1"
      ],
      "metadata": {
        "colab": {
          "base_uri": "https://localhost:8080/"
        },
        "id": "D9BqnCcavXZN",
        "outputId": "b2aa6ac4-0beb-46cf-91ee-73c700106690"
      },
      "id": "D9BqnCcavXZN",
      "execution_count": null,
      "outputs": [
        {
          "output_type": "execute_result",
          "data": {
            "text/plain": [
              "0: [1, 4]\n",
              "1: [0, 2, 4, 3]\n",
              "2: [1, 3]\n",
              "3: [2, 4, 1]\n",
              "4: [3, 0, 1]"
            ]
          },
          "metadata": {},
          "execution_count": 35
        }
      ]
    },
    {
      "cell_type": "code",
      "execution_count": null,
      "id": "nasty-alberta",
      "metadata": {
        "id": "nasty-alberta"
      },
      "outputs": [],
      "source": [
        "!pip install jovian --upgrade --quiet"
      ]
    },
    {
      "cell_type": "code",
      "execution_count": null,
      "id": "renewable-consumption",
      "metadata": {
        "id": "renewable-consumption"
      },
      "outputs": [],
      "source": [
        "import jovian"
      ]
    },
    {
      "cell_type": "code",
      "execution_count": null,
      "id": "collaborative-reduction",
      "metadata": {
        "colab": {
          "base_uri": "https://localhost:8080/",
          "height": 87
        },
        "id": "collaborative-reduction",
        "outputId": "3799ed47-0ee8-4144-8d3f-82358764a8f7"
      },
      "outputs": [
        {
          "output_type": "stream",
          "name": "stdout",
          "text": [
            "[jovian] Detected Colab notebook...\u001b[0m\n",
            "[jovian] Uploading colab notebook to Jovian...\u001b[0m\n",
            "Committed successfully! https://jovian.ai/deepak-dewani/python-graph-algorithms\n"
          ]
        },
        {
          "output_type": "execute_result",
          "data": {
            "application/vnd.google.colaboratory.intrinsic+json": {
              "type": "string"
            },
            "text/plain": [
              "'https://jovian.ai/deepak-dewani/python-graph-algorithms'"
            ]
          },
          "metadata": {},
          "execution_count": 27
        }
      ],
      "source": [
        "jovian.commit()"
      ]
    },
    {
      "cell_type": "markdown",
      "id": "potential-native",
      "metadata": {
        "id": "potential-native"
      },
      "source": [
        "### Adjacency Matrix\n",
        "\n",
        "![](https://i.imgur.com/oswYKTW.png)\n",
        "\n",
        "> **Question**: Represent a graph as an adjacency matrix in Python"
      ]
    },
    {
      "cell_type": "code",
      "execution_count": null,
      "id": "sensitive-iraqi",
      "metadata": {
        "id": "sensitive-iraqi"
      },
      "outputs": [],
      "source": [
        "n_vertices = 5\n",
        "\n",
        "class Graph_matrix:\n",
        "  def __init__(self, n_vertices, edges):\n",
        "    self.table = [[0 for _ in range(n_vertices)] for _ in range(n_vertices)]\n",
        "    for i, j in edges:\n",
        "      self.table[i][j] = 1\n",
        "      self.table[j][i]= 1"
      ]
    },
    {
      "cell_type": "code",
      "execution_count": null,
      "id": "alleged-means",
      "metadata": {
        "colab": {
          "base_uri": "https://localhost:8080/"
        },
        "id": "alleged-means",
        "outputId": "1aa9cabd-c470-4e34-e2c2-ebacc5556542"
      },
      "outputs": [
        {
          "output_type": "execute_result",
          "data": {
            "text/plain": [
              "[[0, 1, 0, 0, 1],\n",
              " [1, 0, 1, 1, 1],\n",
              " [0, 1, 0, 1, 0],\n",
              " [0, 1, 1, 0, 1],\n",
              " [1, 1, 0, 1, 0]]"
            ]
          },
          "metadata": {},
          "execution_count": 26
        }
      ],
      "source": [
        "matrix = Graph_matrix(n , edges)\n",
        "\n",
        "matrix.table"
      ]
    },
    {
      "cell_type": "markdown",
      "id": "spatial-howard",
      "metadata": {
        "id": "spatial-howard"
      },
      "source": [
        "## Graph Traversal\n",
        "\n",
        "\n",
        "### Breadth-First Search\n",
        "\n",
        "A real-world graph:\n",
        "\n",
        "![](https://upload.wikimedia.org/wikipedia/commons/thumb/a/ad/MapGermanyGraph.svg/500px-MapGermanyGraph.svg.png)\n",
        "\n",
        "Breadth-fist search tree (starting from Frankfurt):\n",
        "\n",
        "![](https://upload.wikimedia.org/wikipedia/commons/thumb/6/63/GermanyBFS.svg/500px-GermanyBFS.svg.png)\n",
        "\n",
        "> **Question**: Implement breadth-first search given a source node in a graph using Python.\n",
        "\n",
        "\n",
        "<img src=\"https://i.imgur.com/E2Up1Pk.png\" width=\"400\">\n",
        "\n",
        "BFS pseudocode (Wikipedia):\n",
        "\n",
        "```\n",
        " 1  procedure BFS(G, root) is\n",
        " 2      let Q be a queue\n",
        " 3      label root as discovered\n",
        " 4      Q.enqueue(root)\n",
        " 5      while Q is not empty do\n",
        " 6          v := Q.dequeue()\n",
        " 7          if v is the goal then\n",
        " 8              return v\n",
        " 9          for all edges from v to w in G.adjacentEdges(v) do\n",
        "10              if w is not labeled as discovered then\n",
        "11                  label w as discovered\n",
        "12                  Q.enqueue(w)\n",
        "```\n",
        "\n"
      ]
    },
    {
      "cell_type": "markdown",
      "id": "czech-encounter",
      "metadata": {
        "id": "czech-encounter"
      },
      "source": [
        "<img src=\"https://cdn.programiz.com/sites/tutorial2program/files/queue-implementation.png\" width=\"400\">"
      ]
    },
    {
      "cell_type": "code",
      "execution_count": null,
      "id": "animated-physiology",
      "metadata": {
        "id": "animated-physiology"
      },
      "outputs": [],
      "source": [
        "def bfs(graph, source):\n",
        "  visited = [False] * len(graph.data)\n",
        "  queue = [source]\n",
        "  visited[source] = True\n",
        "  i = 0\n",
        "\n",
        "  while i < len(queue):\n",
        "    current = queue[i]\n",
        "    # print('queue :' , queue)\n",
        "    # print('current : ', current) \n",
        "    # print('visited :' , visited)\n",
        "    visited[current] = True\n",
        "    for v in graph.data[source]:\n",
        "      if not visited[v]:\n",
        "        queue.append(v)\n",
        "        visited[v] = True\n",
        "    i += 1\n",
        "  return queue"
      ]
    },
    {
      "cell_type": "code",
      "execution_count": null,
      "id": "disabled-washington",
      "metadata": {
        "colab": {
          "base_uri": "https://localhost:8080/"
        },
        "id": "disabled-washington",
        "outputId": "4e14c712-4fa5-433a-f5f5-b8a9958b7b60"
      },
      "outputs": [
        {
          "output_type": "execute_result",
          "data": {
            "text/plain": [
              "[0, 1, 4]"
            ]
          },
          "metadata": {},
          "execution_count": 58
        }
      ],
      "source": [
        "bfs(graph1, 0)"
      ]
    },
    {
      "cell_type": "code",
      "source": [
        "bfs(graph1, 1)"
      ],
      "metadata": {
        "colab": {
          "base_uri": "https://localhost:8080/"
        },
        "id": "r_VLIIhjy6MZ",
        "outputId": "1196a6b5-2802-48c5-ccb3-93f15e4fb85e"
      },
      "id": "r_VLIIhjy6MZ",
      "execution_count": null,
      "outputs": [
        {
          "output_type": "execute_result",
          "data": {
            "text/plain": [
              "[1, 0, 2, 4, 3]"
            ]
          },
          "metadata": {},
          "execution_count": 59
        }
      ]
    },
    {
      "cell_type": "code",
      "source": [
        "bfs(graph1, 2)"
      ],
      "metadata": {
        "colab": {
          "base_uri": "https://localhost:8080/"
        },
        "id": "1o2Uh-HPzKcP",
        "outputId": "21de587b-dd7f-4cb6-cf7f-f794208ae510"
      },
      "id": "1o2Uh-HPzKcP",
      "execution_count": null,
      "outputs": [
        {
          "output_type": "execute_result",
          "data": {
            "text/plain": [
              "[2, 1, 3]"
            ]
          },
          "metadata": {},
          "execution_count": 60
        }
      ]
    },
    {
      "cell_type": "code",
      "source": [
        "bfs(graph1, 3)"
      ],
      "metadata": {
        "colab": {
          "base_uri": "https://localhost:8080/"
        },
        "id": "Agi3bdEwzP56",
        "outputId": "20d71868-be36-4fab-becd-3dfad8d90f24"
      },
      "id": "Agi3bdEwzP56",
      "execution_count": null,
      "outputs": [
        {
          "output_type": "execute_result",
          "data": {
            "text/plain": [
              "[3, 2, 4, 1]"
            ]
          },
          "metadata": {},
          "execution_count": 62
        }
      ]
    },
    {
      "cell_type": "code",
      "source": [
        "bfs(graph1, 4)"
      ],
      "metadata": {
        "colab": {
          "base_uri": "https://localhost:8080/"
        },
        "id": "qLPC0TtSzUJH",
        "outputId": "2db4dad5-bbcc-4ded-8c52-932172f3d2dc"
      },
      "id": "qLPC0TtSzUJH",
      "execution_count": null,
      "outputs": [
        {
          "output_type": "execute_result",
          "data": {
            "text/plain": [
              "[4, 3, 0, 1]"
            ]
          },
          "metadata": {},
          "execution_count": 61
        }
      ]
    },
    {
      "cell_type": "code",
      "execution_count": null,
      "id": "abstract-gibraltar",
      "metadata": {
        "id": "abstract-gibraltar"
      },
      "outputs": [],
      "source": [
        "import jovian"
      ]
    },
    {
      "cell_type": "code",
      "execution_count": null,
      "id": "portuguese-consequence",
      "metadata": {
        "colab": {
          "base_uri": "https://localhost:8080/",
          "height": 87
        },
        "id": "portuguese-consequence",
        "outputId": "b33b6c10-c192-4072-8062-e04c78b56a6c"
      },
      "outputs": [
        {
          "output_type": "stream",
          "name": "stdout",
          "text": [
            "[jovian] Detected Colab notebook...\u001b[0m\n",
            "[jovian] Uploading colab notebook to Jovian...\u001b[0m\n",
            "Committed successfully! https://jovian.ai/deepak-dewani/python-graph-algorithms\n"
          ]
        },
        {
          "output_type": "execute_result",
          "data": {
            "application/vnd.google.colaboratory.intrinsic+json": {
              "type": "string"
            },
            "text/plain": [
              "'https://jovian.ai/deepak-dewani/python-graph-algorithms'"
            ]
          },
          "metadata": {},
          "execution_count": 64
        }
      ],
      "source": [
        "jovian.commit()"
      ]
    },
    {
      "cell_type": "markdown",
      "id": "parliamentary-veteran",
      "metadata": {
        "id": "parliamentary-veteran"
      },
      "source": [
        "## Depth-first search\n",
        "\n",
        "\n",
        "\n",
        "> **Question**: Implement depth first search from a given node in a graph using Python.\n",
        "\n",
        "<img src=\"https://i.imgur.com/E2Up1Pk.png\" width=\"400\">\n",
        "\n",
        "DFS pseudocode (Wikipedia):\n",
        "\n",
        "```\n",
        "procedure DFS_iterative(G, v) is\n",
        "    let S be a stack\n",
        "    S.push(v)\n",
        "    while S is not empty do\n",
        "        v = S.pop()\n",
        "        if v is not labeled as discovered then\n",
        "            label v as discovered\n",
        "            for all edges from v to w in G.adjacentEdges(v) do \n",
        "                S.push(w)\n",
        "```\n",
        "\n",
        "\n"
      ]
    },
    {
      "cell_type": "markdown",
      "source": [
        "Depth First traversal:\n",
        "\n",
        "1. Create a stack with a single element, source and mark it as visited.\n",
        "2. Pop the last element in the stack, mark it as visited, then add its neighbour to the stack and mark them as visited.\n",
        "3. repeat till the stack is empty.\n"
      ],
      "metadata": {
        "id": "zMEi3NJ417Mu"
      },
      "id": "zMEi3NJ417Mu"
    },
    {
      "cell_type": "code",
      "execution_count": null,
      "id": "elect-montana",
      "metadata": {
        "id": "elect-montana"
      },
      "outputs": [],
      "source": [
        "def dfs(graph, source):\n",
        "  stack = [source]\n",
        "  visited = [False] * len(graph.data)\n",
        "  result = []\n",
        "  while len(stack) > 0:\n",
        "    current = stack.pop()\n",
        "    if not visited[current]:\n",
        "      result.append(current)\n",
        "    visited[current] = True\n",
        "    for v in graph.data[current]:\n",
        "      if not visited[v]:\n",
        "        stack.append(v)\n",
        "\n",
        "  return result\n",
        "\n",
        "\n"
      ]
    },
    {
      "cell_type": "code",
      "source": [
        "graph1"
      ],
      "metadata": {
        "colab": {
          "base_uri": "https://localhost:8080/"
        },
        "id": "nkPOKRkl3Upw",
        "outputId": "8638e4f7-4915-4e9e-ae36-ac90712fada5"
      },
      "id": "nkPOKRkl3Upw",
      "execution_count": null,
      "outputs": [
        {
          "output_type": "execute_result",
          "data": {
            "text/plain": [
              "0: [1, 4]\n",
              "1: [0, 2, 4, 3]\n",
              "2: [1, 3]\n",
              "3: [2, 4, 1]\n",
              "4: [3, 0, 1]"
            ]
          },
          "metadata": {},
          "execution_count": 73
        }
      ]
    },
    {
      "cell_type": "code",
      "source": [
        "dfs(graph1, 0)"
      ],
      "metadata": {
        "colab": {
          "base_uri": "https://localhost:8080/"
        },
        "id": "W0b9JQZw3Ym8",
        "outputId": "10fd0cfa-1c39-4730-c501-9390105978f4"
      },
      "id": "W0b9JQZw3Ym8",
      "execution_count": null,
      "outputs": [
        {
          "output_type": "execute_result",
          "data": {
            "text/plain": [
              "[0, 4, 1, 3, 2]"
            ]
          },
          "metadata": {},
          "execution_count": 74
        }
      ]
    },
    {
      "cell_type": "markdown",
      "id": "descending-amber",
      "metadata": {
        "id": "descending-amber"
      },
      "source": [
        "<img src=\"https://cdn.programiz.com/sites/tutorial2program/files/stack.png\" width=\"400\">"
      ]
    },
    {
      "cell_type": "markdown",
      "source": [
        "> **Question**: Write a program to check if all the nodes in a graph are connected\n",
        "\n",
        "![](http://www.martinbroadhurst.com/images/connected_components.png)"
      ],
      "metadata": {
        "id": "LAXbrMV441zz"
      },
      "id": "LAXbrMV441zz"
    },
    {
      "cell_type": "code",
      "execution_count": null,
      "id": "informal-christmas",
      "metadata": {
        "colab": {
          "base_uri": "https://localhost:8080/"
        },
        "id": "informal-christmas",
        "outputId": "9c2c29d4-2f93-4f2f-8cd0-2ebef1ffcb7b"
      },
      "outputs": [
        {
          "output_type": "execute_result",
          "data": {
            "text/plain": [
              "(9, 8)"
            ]
          },
          "metadata": {},
          "execution_count": 75
        }
      ],
      "source": [
        "num_nodes3 = 9\n",
        "edges3 = [(0, 1), (0, 3), (1, 2), (2, 3), (4, 5), (4, 6), (5, 6), (7, 8)]\n",
        "num_nodes3, len(edges3)"
      ]
    },
    {
      "cell_type": "code",
      "execution_count": null,
      "id": "arabic-machine",
      "metadata": {
        "id": "arabic-machine"
      },
      "outputs": [],
      "source": [
        "graph2 = Graph( num_nodes3, edges3)"
      ]
    },
    {
      "cell_type": "code",
      "execution_count": null,
      "id": "forward-department",
      "metadata": {
        "colab": {
          "base_uri": "https://localhost:8080/"
        },
        "id": "forward-department",
        "outputId": "c6c8f6a6-2f51-4fe1-8fe1-9344cd2b4f88"
      },
      "outputs": [
        {
          "output_type": "execute_result",
          "data": {
            "text/plain": [
              "0: [1, 3]\n",
              "1: [0, 2]\n",
              "2: [1, 3]\n",
              "3: [0, 2]\n",
              "4: [5, 6]\n",
              "5: [4, 6]\n",
              "6: [4, 5]\n",
              "7: [8]\n",
              "8: [7]"
            ]
          },
          "metadata": {},
          "execution_count": 77
        }
      ],
      "source": [
        "graph2"
      ]
    },
    {
      "cell_type": "code",
      "execution_count": null,
      "id": "contained-version",
      "metadata": {
        "colab": {
          "base_uri": "https://localhost:8080/"
        },
        "id": "contained-version",
        "outputId": "1df9f1b6-f24f-4d1d-d7e3-37bae4b49cc0"
      },
      "outputs": [
        {
          "output_type": "execute_result",
          "data": {
            "text/plain": [
              "[0, 3, 2, 1]"
            ]
          },
          "metadata": {},
          "execution_count": 78
        }
      ],
      "source": [
        "dfs(graph2, 0)"
      ]
    },
    {
      "cell_type": "code",
      "source": [
        "dfs(graph2, 1)"
      ],
      "metadata": {
        "colab": {
          "base_uri": "https://localhost:8080/"
        },
        "id": "k3IqXj9M5NPU",
        "outputId": "734d9adb-7df1-4e71-d2ed-12f77637284e"
      },
      "id": "k3IqXj9M5NPU",
      "execution_count": null,
      "outputs": [
        {
          "output_type": "execute_result",
          "data": {
            "text/plain": [
              "[1, 2, 3, 0]"
            ]
          },
          "metadata": {},
          "execution_count": 79
        }
      ]
    },
    {
      "cell_type": "code",
      "source": [
        "dfs(graph2, 2)"
      ],
      "metadata": {
        "colab": {
          "base_uri": "https://localhost:8080/"
        },
        "id": "SxDtzpyq5Zt4",
        "outputId": "d282525c-82f3-40b3-872f-0e1072266c63"
      },
      "id": "SxDtzpyq5Zt4",
      "execution_count": null,
      "outputs": [
        {
          "output_type": "execute_result",
          "data": {
            "text/plain": [
              "[2, 3, 0, 1]"
            ]
          },
          "metadata": {},
          "execution_count": 80
        }
      ]
    },
    {
      "cell_type": "code",
      "source": [
        "dfs(graph2, 3)"
      ],
      "metadata": {
        "colab": {
          "base_uri": "https://localhost:8080/"
        },
        "id": "QNeAT8VA5ZqC",
        "outputId": "828f5b6e-6c48-47b5-96a5-fc303681c42a"
      },
      "id": "QNeAT8VA5ZqC",
      "execution_count": null,
      "outputs": [
        {
          "output_type": "execute_result",
          "data": {
            "text/plain": [
              "[3, 2, 1, 0]"
            ]
          },
          "metadata": {},
          "execution_count": 81
        }
      ]
    },
    {
      "cell_type": "code",
      "source": [
        "dfs(graph2, 4)"
      ],
      "metadata": {
        "colab": {
          "base_uri": "https://localhost:8080/"
        },
        "id": "6zoMV4wM5Zm1",
        "outputId": "5feb7e36-0d76-44fa-8d3f-3591ba101104"
      },
      "id": "6zoMV4wM5Zm1",
      "execution_count": null,
      "outputs": [
        {
          "output_type": "execute_result",
          "data": {
            "text/plain": [
              "[4, 6, 5]"
            ]
          },
          "metadata": {},
          "execution_count": 82
        }
      ]
    },
    {
      "cell_type": "code",
      "source": [
        "dfs(graph2, 5)"
      ],
      "metadata": {
        "colab": {
          "base_uri": "https://localhost:8080/"
        },
        "id": "7IODrbQB5i98",
        "outputId": "5eeb8a05-3638-4056-af27-e99297d3e9eb"
      },
      "id": "7IODrbQB5i98",
      "execution_count": null,
      "outputs": [
        {
          "output_type": "execute_result",
          "data": {
            "text/plain": [
              "[5, 6, 4]"
            ]
          },
          "metadata": {},
          "execution_count": 83
        }
      ]
    },
    {
      "cell_type": "markdown",
      "source": [
        "Since the source are not travelling to every nodes, hence this graph is not connected"
      ],
      "metadata": {
        "id": "3gcQHyi35mre"
      },
      "id": "3gcQHyi35mre"
    },
    {
      "cell_type": "markdown",
      "source": [
        "![](https://upload.wikimedia.org/wikipedia/commons/thumb/7/7f/Depth-First-Search.gif/440px-Depth-First-Search.gif)\n",
        "\n",
        "\n",
        "Find the dfs for the above graph"
      ],
      "metadata": {
        "id": "wIBop7fm6F2_"
      },
      "id": "wIBop7fm6F2_"
    },
    {
      "cell_type": "code",
      "source": [
        "num_nodes = 10\n",
        "\n",
        "edges_10 = ((1,2), (2,3), (3,4), (1,5),(5,6), (5,8), (6,7), (1,9), (9,10))\n",
        "\n",
        "num_nodes, edges_10"
      ],
      "metadata": {
        "colab": {
          "base_uri": "https://localhost:8080/"
        },
        "id": "uvzD-flU6cnh",
        "outputId": "3161b11a-2ce7-447b-eb84-caa27950412a"
      },
      "id": "uvzD-flU6cnh",
      "execution_count": null,
      "outputs": [
        {
          "output_type": "execute_result",
          "data": {
            "text/plain": [
              "(10, ((1, 2), (2, 3), (3, 4), (1, 5), (5, 6), (5, 8), (6, 7), (1, 9), (9, 10)))"
            ]
          },
          "metadata": {},
          "execution_count": 108
        }
      ]
    },
    {
      "cell_type": "code",
      "source": [
        "class Graph:\n",
        "  def __init__(self, num_nodes, edges_10):\n",
        "    self.data = [[] for _ in range(1, 12)]\n",
        "\n",
        "    for v1, v2 in edges_10:\n",
        "      self.data[v1].append(v2)\n",
        "      self.data[v2].append(v1)\n",
        "\n",
        "  def __repr__(self):\n",
        "    result = ''\n",
        "    for i, nodes in enumerate(self.data):\n",
        "      result += str(i) + ': ' + str(nodes) + '\\n'\n",
        "    return result\n",
        "  \n",
        "  def __str__(self):\n",
        "    return self.__repr__()"
      ],
      "metadata": {
        "id": "fEHHg4O97bjl"
      },
      "id": "fEHHg4O97bjl",
      "execution_count": null,
      "outputs": []
    },
    {
      "cell_type": "code",
      "source": [
        "graph3 = Graph(num_nodes, edges_10)"
      ],
      "metadata": {
        "id": "bd7EqIrv7BHa"
      },
      "id": "bd7EqIrv7BHa",
      "execution_count": null,
      "outputs": []
    },
    {
      "cell_type": "code",
      "source": [
        "graph3"
      ],
      "metadata": {
        "colab": {
          "base_uri": "https://localhost:8080/"
        },
        "id": "hbUbO6be7BAC",
        "outputId": "8afb17af-1cbd-4620-b08a-d1d3246fb922"
      },
      "id": "hbUbO6be7BAC",
      "execution_count": null,
      "outputs": [
        {
          "output_type": "execute_result",
          "data": {
            "text/plain": [
              "0: [0]\n",
              "1: [0, 2, 5, 9, 10]\n",
              "2: [0, 1, 3]\n",
              "3: [0, 2, 4]\n",
              "4: [0, 3]\n",
              "5: [0, 1, 6, 8]\n",
              "6: [0, 5, 7]\n",
              "7: [0, 6]\n",
              "8: [0, 5]\n",
              "9: [0, 1]\n",
              "10: [0, 1]\n",
              "11: [0]\n",
              "12: [0]\n",
              "13: [0]\n",
              "14: [0]"
            ]
          },
          "metadata": {},
          "execution_count": 113
        }
      ]
    },
    {
      "cell_type": "code",
      "source": [
        "dfs(graph3, 1)"
      ],
      "metadata": {
        "id": "Lv8c7_ZL7A-R",
        "colab": {
          "base_uri": "https://localhost:8080/"
        },
        "outputId": "0bd0e9b3-6651-47cc-edf0-3ad2bce9a238"
      },
      "id": "Lv8c7_ZL7A-R",
      "execution_count": null,
      "outputs": [
        {
          "output_type": "execute_result",
          "data": {
            "text/plain": [
              "[1, 9, 10, 5, 8, 6, 7, 2, 3, 4]"
            ]
          },
          "metadata": {},
          "execution_count": 121
        }
      ]
    },
    {
      "cell_type": "code",
      "source": [
        "bfs(graph3, 1)"
      ],
      "metadata": {
        "colab": {
          "base_uri": "https://localhost:8080/"
        },
        "id": "Rd7dE8SV-6Mf",
        "outputId": "6f70b361-2f9d-4df0-d18e-125ee95ac172"
      },
      "id": "Rd7dE8SV-6Mf",
      "execution_count": null,
      "outputs": [
        {
          "output_type": "execute_result",
          "data": {
            "text/plain": [
              "[1, 2, 5, 9]"
            ]
          },
          "metadata": {},
          "execution_count": 125
        }
      ]
    },
    {
      "cell_type": "code",
      "execution_count": null,
      "id": "lesser-opinion",
      "metadata": {
        "id": "lesser-opinion"
      },
      "outputs": [],
      "source": [
        "import jovian"
      ]
    },
    {
      "cell_type": "code",
      "execution_count": null,
      "id": "hungry-increase",
      "metadata": {
        "colab": {
          "base_uri": "https://localhost:8080/",
          "height": 87
        },
        "id": "hungry-increase",
        "outputId": "2e0831dc-791b-4a14-f179-d848658f8e20"
      },
      "outputs": [
        {
          "output_type": "stream",
          "name": "stdout",
          "text": [
            "[jovian] Detected Colab notebook...\u001b[0m\n",
            "[jovian] Uploading colab notebook to Jovian...\u001b[0m\n",
            "Committed successfully! https://jovian.ai/deepak-dewani/python-graph-algorithms\n"
          ]
        },
        {
          "output_type": "execute_result",
          "data": {
            "application/vnd.google.colaboratory.intrinsic+json": {
              "type": "string"
            },
            "text/plain": [
              "'https://jovian.ai/deepak-dewani/python-graph-algorithms'"
            ]
          },
          "metadata": {},
          "execution_count": 127
        }
      ],
      "source": [
        "jovian.commit()"
      ]
    },
    {
      "cell_type": "markdown",
      "id": "together-blogger",
      "metadata": {
        "id": "together-blogger"
      },
      "source": [
        "> **Question**: Write a function to detect a cycle in a graph\n",
        "\n",
        "![](https://tutorialspoint.dev/image/cycleGraph.png)"
      ]
    },
    {
      "cell_type": "code",
      "execution_count": null,
      "id": "small-buyer",
      "metadata": {
        "id": "small-buyer"
      },
      "outputs": [],
      "source": [
        ""
      ]
    },
    {
      "cell_type": "code",
      "execution_count": null,
      "id": "daily-warrior",
      "metadata": {
        "id": "daily-warrior"
      },
      "outputs": [],
      "source": [
        ""
      ]
    },
    {
      "cell_type": "code",
      "execution_count": null,
      "id": "dried-reform",
      "metadata": {
        "id": "dried-reform"
      },
      "outputs": [],
      "source": [
        ""
      ]
    },
    {
      "cell_type": "markdown",
      "id": "broke-carroll",
      "metadata": {
        "id": "broke-carroll"
      },
      "source": [
        "### Weighted Graphs\n",
        "\n",
        "![](https://i.imgur.com/wy7ZHRW.png)\n",
        "\n"
      ]
    },
    {
      "cell_type": "code",
      "execution_count": null,
      "id": "eligible-equipment",
      "metadata": {
        "id": "eligible-equipment",
        "outputId": "0df5b78a-3369-4ce0-fabd-78d426d8bde0",
        "colab": {
          "base_uri": "https://localhost:8080/"
        }
      },
      "outputs": [
        {
          "output_type": "execute_result",
          "data": {
            "text/plain": [
              "(9, 10)"
            ]
          },
          "metadata": {},
          "execution_count": 139
        }
      ],
      "source": [
        "# Graph with weights\n",
        "num_nodes5 = 9\n",
        "edges5 = [(0, 1, 3), (0, 3, 2), (0, 8, 4), (1, 7, 4), (2, 7, 2), (2, 3, 6), \n",
        "          (2, 5, 1), (3, 4, 1), (4, 8, 8), (5, 6, 8)]\n",
        "\n",
        "num_nodes5, len(edges5)"
      ]
    },
    {
      "cell_type": "markdown",
      "id": "abstract-return",
      "metadata": {
        "id": "abstract-return"
      },
      "source": [
        "### Directed Graphs\n",
        "\n",
        "<img src=\"https://i.imgur.com/8AN7EUV.png\" width=\"480\">"
      ]
    },
    {
      "cell_type": "code",
      "execution_count": 144,
      "id": "fitted-kruger",
      "metadata": {
        "id": "fitted-kruger",
        "outputId": "b9c9ed0f-938c-4740-b833-8772b0374db9",
        "colab": {
          "base_uri": "https://localhost:8080/"
        }
      },
      "outputs": [
        {
          "output_type": "execute_result",
          "data": {
            "text/plain": [
              "(5, 6)"
            ]
          },
          "metadata": {},
          "execution_count": 144
        }
      ],
      "source": [
        "num_nodes6 = 5\n",
        "edges6 = [(0, 1), (1, 2), (2, 3), (2, 4), (4, 2), (3, 0)]\n",
        "num_nodes6, len(edges6)"
      ]
    },
    {
      "cell_type": "markdown",
      "id": "saved-pittsburgh",
      "metadata": {
        "id": "saved-pittsburgh"
      },
      "source": [
        "> **Question**: Define a class to represent weighted and directed graphs in Python."
      ]
    },
    {
      "cell_type": "code",
      "execution_count": null,
      "id": "affected-essence",
      "metadata": {
        "id": "affected-essence"
      },
      "outputs": [],
      "source": [
        "class Graph_path:\n",
        "  def __init__(self, n , edges, directed = False):\n",
        "    self.data = [[] for _ in range(n)]\n",
        "    self.weights = [[] for _ in range(n)]\n",
        "    for e in edges:\n",
        "      if len(e) == 3:\n",
        "        v1, v2, w = e\n",
        "        self.data[v1].append(v2)\n",
        "        self.weights[v1].append(w)\n",
        "        if not directed:\n",
        "          self.data[v2].append(v1)\n",
        "          self.dat[v2].append(w)\n",
        "      else:\n",
        "        v1, v2 = e\n",
        "        self.data[v1].append(v2)\n",
        "        if not directed:\n",
        "          self.data[v2].append(v1)\n",
        "\n",
        "  def __repr__(self):\n",
        "    result = ''\n",
        "    for i, (nodes, weights) in enumerate(zip(self.data, self.weights)):\n",
        "      result += str(i) + ': ' + str(list(zip(nodes, weights))) + '\\n'\n",
        "    return result \n",
        "  \n",
        "  def __str__(self):\n",
        "    return self.__repr__()"
      ]
    },
    {
      "cell_type": "code",
      "execution_count": null,
      "id": "promotional-fiction",
      "metadata": {
        "id": "promotional-fiction"
      },
      "outputs": [],
      "source": [
        "graph5 = Graph_path(num_nodes5, edges5, directed = True)"
      ]
    },
    {
      "cell_type": "code",
      "execution_count": null,
      "id": "virgin-impact",
      "metadata": {
        "id": "virgin-impact",
        "colab": {
          "base_uri": "https://localhost:8080/"
        },
        "outputId": "a0ed55d6-7ddf-4c22-a6dc-36d21ba64f63"
      },
      "outputs": [
        {
          "output_type": "execute_result",
          "data": {
            "text/plain": [
              "0: [(1, 3), (3, 2), (8, 4)]\n",
              "1: [(7, 4)]\n",
              "2: [(7, 2), (3, 6), (5, 1)]\n",
              "3: [(4, 1)]\n",
              "4: [(8, 8)]\n",
              "5: [(6, 8)]\n",
              "6: []\n",
              "7: []\n",
              "8: []"
            ]
          },
          "metadata": {},
          "execution_count": 141
        }
      ],
      "source": [
        "graph5"
      ]
    },
    {
      "cell_type": "code",
      "source": [
        "graph6 = Graph_path(num_nodes6, edges6, directed = True)"
      ],
      "metadata": {
        "id": "LXgxi4gyIgBM"
      },
      "id": "LXgxi4gyIgBM",
      "execution_count": 145,
      "outputs": []
    },
    {
      "cell_type": "code",
      "source": [
        "graph6"
      ],
      "metadata": {
        "colab": {
          "base_uri": "https://localhost:8080/"
        },
        "id": "2UyzHZG1Iu1f",
        "outputId": "ea992bdb-8ade-4b6b-de3b-9a7bf485243c"
      },
      "id": "2UyzHZG1Iu1f",
      "execution_count": 146,
      "outputs": [
        {
          "output_type": "execute_result",
          "data": {
            "text/plain": [
              "0: []\n",
              "1: []\n",
              "2: []\n",
              "3: []\n",
              "4: []"
            ]
          },
          "metadata": {},
          "execution_count": 146
        }
      ]
    },
    {
      "cell_type": "code",
      "execution_count": 147,
      "id": "exempt-stone",
      "metadata": {
        "id": "exempt-stone"
      },
      "outputs": [],
      "source": [
        "import jovian"
      ]
    },
    {
      "cell_type": "code",
      "execution_count": 148,
      "id": "chronic-uzbekistan",
      "metadata": {
        "id": "chronic-uzbekistan",
        "outputId": "a4ea138c-0a4b-4012-dfd5-1793c7c5d813",
        "colab": {
          "base_uri": "https://localhost:8080/",
          "height": 87
        }
      },
      "outputs": [
        {
          "output_type": "stream",
          "name": "stdout",
          "text": [
            "[jovian] Detected Colab notebook...\u001b[0m\n",
            "[jovian] Uploading colab notebook to Jovian...\u001b[0m\n",
            "Committed successfully! https://jovian.ai/deepak-dewani/python-graph-algorithms\n"
          ]
        },
        {
          "output_type": "execute_result",
          "data": {
            "application/vnd.google.colaboratory.intrinsic+json": {
              "type": "string"
            },
            "text/plain": [
              "'https://jovian.ai/deepak-dewani/python-graph-algorithms'"
            ]
          },
          "metadata": {},
          "execution_count": 148
        }
      ],
      "source": [
        "jovian.commit()"
      ]
    },
    {
      "cell_type": "markdown",
      "id": "posted-peripheral",
      "metadata": {
        "id": "posted-peripheral"
      },
      "source": [
        "## Shortest Paths\n",
        "\n",
        "\n",
        "> **Question**: Write a function to find the length of the shortest path between two nodes in a weighted directed graph.\n",
        "\n",
        "<img src=\"https://i.imgur.com/Zn5cUkO.png\" width=\"480\">\n",
        "\n",
        "\n",
        "**Dijkstra's algorithm (Wikipedia)**:\n",
        "\n",
        "![](https://upload.wikimedia.org/wikipedia/commons/5/57/Dijkstra_Animation.gif)\n",
        "\n",
        "1. Mark all nodes unvisited. Create a set of all the unvisited nodes called the unvisited set.\n",
        "2. Assign to every node a tentative distance value: set it to zero for our initial node and to infinity for all other nodes. Set the initial node as current.[16]\n",
        "3. For the current node, consider all of its unvisited neighbours and calculate their tentative distances through the current node. Compare the newly calculated tentative distance to the current assigned value and assign the smaller one. For example, if the current node A is marked with a distance of 6, and the edge connecting it with a neighbour B has length 2, then the distance to B through A will be 6 + 2 = 8. If B was previously marked with a distance greater than 8 then change it to 8. Otherwise, the current value will be kept.\n",
        "4. When we are done considering all of the unvisited neighbours of the current node, mark the current node as visited and remove it from the unvisited set. A visited node will never be checked again.\n",
        "5. If the destination node has been marked visited (when planning a route between two specific nodes) or if the smallest tentative distance among the nodes in the unvisited set is infinity (when planning a complete traversal; occurs when there is no connection between the initial node and remaining unvisited nodes), then stop. The algorithm has finished.\n",
        "6. Otherwise, select the unvisited node that is marked with the smallest tentative distance, set it as the new \"current node\", and go back to step 3."
      ]
    },
    {
      "cell_type": "code",
      "execution_count": null,
      "id": "certain-today",
      "metadata": {
        "id": "certain-today"
      },
      "outputs": [],
      "source": [
        "def update_distances(graph, current, distance, parent=None):\n",
        "    \"\"\"Update the distances of the current node's neighbors\"\"\"\n",
        "    neighbors = graph.data[current]\n",
        "    weights = graph.weight[current]\n",
        "    for i, node in enumerate(neighbors):\n",
        "        weight = weights[i]\n",
        "        if distance[current] + weight < distance[node]:\n",
        "            distance[node] = distance[current] + weight\n",
        "            if parent:\n",
        "                parent[node] = current\n",
        "\n",
        "def pick_next_node(distance, visited):\n",
        "    \"\"\"Pick the next univisited node at the smallest distance\"\"\"\n",
        "    min_distance = float('inf')\n",
        "    min_node = None\n",
        "    for node in range(len(distance)):\n",
        "        if not visited[node] and distance[node] < min_distance:\n",
        "            min_node = node\n",
        "            min_distance = distance[node]\n",
        "    return min_node"
      ]
    },
    {
      "cell_type": "code",
      "execution_count": null,
      "id": "apparent-decrease",
      "metadata": {
        "id": "apparent-decrease"
      },
      "outputs": [],
      "source": [
        ""
      ]
    },
    {
      "cell_type": "code",
      "execution_count": null,
      "id": "spare-glossary",
      "metadata": {
        "id": "spare-glossary"
      },
      "outputs": [],
      "source": [
        ""
      ]
    },
    {
      "cell_type": "code",
      "execution_count": 149,
      "id": "adopted-creek",
      "metadata": {
        "id": "adopted-creek",
        "outputId": "1481154d-73bf-461c-fac3-5bf8f00b6b5e",
        "colab": {
          "base_uri": "https://localhost:8080/"
        }
      },
      "outputs": [
        {
          "output_type": "execute_result",
          "data": {
            "text/plain": [
              "(6, 7)"
            ]
          },
          "metadata": {},
          "execution_count": 149
        }
      ],
      "source": [
        "num_nodes7 = 6\n",
        "edges7 = [(0, 1, 4), (0, 2, 2), (1, 2, 5), (1, 3, 10), (2, 4, 3), (4, 3, 4), (3, 5, 11)]\n",
        "num_nodes7, len(edges7)"
      ]
    },
    {
      "cell_type": "code",
      "execution_count": null,
      "id": "spatial-engagement",
      "metadata": {
        "id": "spatial-engagement"
      },
      "outputs": [],
      "source": [
        ""
      ]
    },
    {
      "cell_type": "code",
      "execution_count": null,
      "id": "specific-champagne",
      "metadata": {
        "id": "specific-champagne"
      },
      "outputs": [],
      "source": [
        ""
      ]
    },
    {
      "cell_type": "code",
      "execution_count": null,
      "id": "right-kenya",
      "metadata": {
        "id": "right-kenya"
      },
      "outputs": [],
      "source": [
        ""
      ]
    },
    {
      "cell_type": "code",
      "execution_count": null,
      "id": "foreign-malpractice",
      "metadata": {
        "id": "foreign-malpractice"
      },
      "outputs": [],
      "source": [
        "import jovian"
      ]
    },
    {
      "cell_type": "code",
      "execution_count": null,
      "id": "reserved-investor",
      "metadata": {
        "id": "reserved-investor",
        "outputId": "114a2b66-9ec6-47a8-ce22-3038cccdc7cb"
      },
      "outputs": [
        {
          "data": {
            "application/javascript": [
              "window.require && require([\"base/js/namespace\"],function(Jupyter){Jupyter.notebook.save_checkpoint()})"
            ],
            "text/plain": [
              "<IPython.core.display.Javascript object>"
            ]
          },
          "metadata": {},
          "output_type": "display_data"
        },
        {
          "name": "stdout",
          "output_type": "stream",
          "text": [
            "[jovian] Attempting to save notebook..\u001b[0m\n",
            "[jovian] Updating notebook \"aakashns/python-graph-algorithms\" on https://jovian.ai/\u001b[0m\n",
            "[jovian] Uploading notebook..\u001b[0m\n",
            "[jovian] Capturing environment..\u001b[0m\n",
            "[jovian] Committed successfully! https://jovian.ai/aakashns/python-graph-algorithms\u001b[0m\n"
          ]
        },
        {
          "data": {
            "text/plain": [
              "'https://jovian.ai/aakashns/python-graph-algorithms'"
            ]
          },
          "execution_count": 92,
          "metadata": {},
          "output_type": "execute_result"
        }
      ],
      "source": [
        "jovian.commit()"
      ]
    },
    {
      "cell_type": "markdown",
      "id": "coordinate-circle",
      "metadata": {
        "id": "coordinate-circle"
      },
      "source": [
        "### Binary Heap\n",
        "\n",
        "A data structure to maintain the running minimum/maximum of a set of numbers, supporting efficient addition/removal.\n",
        "\n",
        "\n",
        "<img src=\"https://i.imgur.com/ABAcM7m.png\" width=\"400\">\n",
        "\n",
        "\n",
        "Heap operations:\n",
        "\n",
        "- Insertion - $O(log N)$\n",
        "- Min/Max - $O(1)$ (depending on type of heap)\n",
        "- Deletion - $O(log N)$\n",
        "- Convert a list to a heap - $O(n)$\n",
        "\n",
        "\n",
        "Python's built-in heap: https://docs.python.org/3/library/heapq.html\n",
        "\n",
        "> **Question**: Implement Dijkstra's shortest path algorithm using the `heap` module from Python. What is the complexity of the algorithm?"
      ]
    },
    {
      "cell_type": "code",
      "execution_count": null,
      "id": "north-administrator",
      "metadata": {
        "id": "north-administrator"
      },
      "outputs": [],
      "source": [
        ""
      ]
    },
    {
      "cell_type": "code",
      "execution_count": null,
      "id": "latter-sunday",
      "metadata": {
        "id": "latter-sunday"
      },
      "outputs": [],
      "source": [
        ""
      ]
    },
    {
      "cell_type": "markdown",
      "id": "pointed-diabetes",
      "metadata": {
        "id": "pointed-diabetes"
      },
      "source": [
        "### More Problems\n",
        "\n",
        "Solve more graph problems here: https://leetcode.com/tag/graph/"
      ]
    },
    {
      "cell_type": "code",
      "execution_count": null,
      "id": "banner-canadian",
      "metadata": {
        "id": "banner-canadian"
      },
      "outputs": [],
      "source": [
        "import jovian"
      ]
    },
    {
      "cell_type": "code",
      "execution_count": null,
      "id": "union-chambers",
      "metadata": {
        "id": "union-chambers",
        "outputId": "d77bafe0-ba7e-46b2-bc2a-ff8fade429c2"
      },
      "outputs": [
        {
          "data": {
            "application/javascript": [
              "window.require && require([\"base/js/namespace\"],function(Jupyter){Jupyter.notebook.save_checkpoint()})"
            ],
            "text/plain": [
              "<IPython.core.display.Javascript object>"
            ]
          },
          "metadata": {},
          "output_type": "display_data"
        },
        {
          "name": "stdout",
          "output_type": "stream",
          "text": [
            "[jovian] Attempting to save notebook..\u001b[0m\n",
            "[jovian] Updating notebook \"aakashns/python-graph-algorithms\" on https://jovian.ai/\u001b[0m\n",
            "[jovian] Uploading notebook..\u001b[0m\n",
            "[jovian] Capturing environment..\u001b[0m\n",
            "[jovian] Committed successfully! https://jovian.ai/aakashns/python-graph-algorithms\u001b[0m\n"
          ]
        },
        {
          "data": {
            "text/plain": [
              "'https://jovian.ai/aakashns/python-graph-algorithms'"
            ]
          },
          "execution_count": 94,
          "metadata": {},
          "output_type": "execute_result"
        }
      ],
      "source": [
        "jovian.commit()"
      ]
    },
    {
      "cell_type": "code",
      "execution_count": null,
      "id": "existing-hospital",
      "metadata": {
        "id": "existing-hospital"
      },
      "outputs": [],
      "source": [
        ""
      ]
    },
    {
      "cell_type": "code",
      "execution_count": null,
      "id": "tribal-brand",
      "metadata": {
        "id": "tribal-brand"
      },
      "outputs": [],
      "source": [
        ""
      ]
    },
    {
      "cell_type": "markdown",
      "id": "ethical-marathon",
      "metadata": {
        "id": "ethical-marathon"
      },
      "source": [
        "## Solutions\n",
        "\n",
        "![](https://i.imgur.com/E2Up1Pk.png)"
      ]
    },
    {
      "cell_type": "markdown",
      "id": "desirable-possibility",
      "metadata": {
        "id": "desirable-possibility"
      },
      "source": [
        "### Input Data"
      ]
    },
    {
      "cell_type": "code",
      "execution_count": null,
      "id": "according-lunch",
      "metadata": {
        "id": "according-lunch",
        "outputId": "42ad70c2-8571-4889-e161-e205465831a8"
      },
      "outputs": [
        {
          "data": {
            "text/plain": [
              "(5, 7)"
            ]
          },
          "execution_count": 26,
          "metadata": {},
          "output_type": "execute_result"
        }
      ],
      "source": [
        "num_nodes1 = 5\n",
        "edges1 = [(0, 1), (1, 2), (2, 3), (3, 4), (4, 0), (1, 4), (1, 3)]\n",
        "num_nodes1, len(edges1)"
      ]
    },
    {
      "cell_type": "code",
      "execution_count": null,
      "id": "italian-armor",
      "metadata": {
        "id": "italian-armor",
        "outputId": "acbd649f-740f-4be1-b510-2e9ef46e49d7"
      },
      "outputs": [
        {
          "data": {
            "text/plain": [
              "(9, 8)"
            ]
          },
          "execution_count": 25,
          "metadata": {},
          "output_type": "execute_result"
        }
      ],
      "source": [
        "num_nodes3 = 9\n",
        "edges3 = [(0, 1), (0, 3), (1, 2), (2, 3), (4, 5), (4, 6), (5, 6), (7, 8)]\n",
        "num_nodes3, len(edges3)"
      ]
    },
    {
      "cell_type": "code",
      "execution_count": null,
      "id": "strategic-deposit",
      "metadata": {
        "id": "strategic-deposit",
        "outputId": "78e4a7b8-cfa1-4f3c-daee-1d4cc4e59208"
      },
      "outputs": [
        {
          "data": {
            "text/plain": [
              "(9, 10)"
            ]
          },
          "execution_count": 15,
          "metadata": {},
          "output_type": "execute_result"
        }
      ],
      "source": [
        "num_nodes5 = 9\n",
        "edges5 = [(0, 1, 3), (0, 3, 2), (0, 8, 4), (1, 7, 4), (2, 7, 2), (2, 3, 6), \n",
        "          (2, 5, 1), (3, 4, 1), (4, 8, 8), (5, 6, 8)]\n",
        "\n",
        "num_nodes5, len(edges5)"
      ]
    },
    {
      "cell_type": "code",
      "execution_count": null,
      "id": "broke-hungarian",
      "metadata": {
        "id": "broke-hungarian",
        "outputId": "ba93c124-7bbb-4e31-e8f2-ee1d9f59ee28"
      },
      "outputs": [
        {
          "data": {
            "text/plain": [
              "(5, 6)"
            ]
          },
          "execution_count": 16,
          "metadata": {},
          "output_type": "execute_result"
        }
      ],
      "source": [
        "# Directed graph\n",
        "num_nodes6 = 5\n",
        "edges6 = [(0, 1), (1, 2), (2, 3), (2, 4), (4, 2), (3, 0)]\n",
        "num_nodes6, len(edges6)"
      ]
    },
    {
      "cell_type": "code",
      "execution_count": null,
      "id": "instructional-sarah",
      "metadata": {
        "id": "instructional-sarah",
        "outputId": "ecb7da1a-f478-445f-ce36-c9081aeac0d8"
      },
      "outputs": [
        {
          "data": {
            "text/plain": [
              "(6, 7)"
            ]
          },
          "execution_count": 29,
          "metadata": {},
          "output_type": "execute_result"
        }
      ],
      "source": [
        "num_nodes7 = 6\n",
        "edges7 = [(0, 1, 4), (0, 2, 2), (1, 2, 5), (1, 3, 10), (2, 4, 3), (4, 3, 4), (3, 5, 11)]\n",
        "num_nodes7, len(edges7)"
      ]
    },
    {
      "cell_type": "markdown",
      "id": "homeless-hawaii",
      "metadata": {
        "id": "homeless-hawaii"
      },
      "source": [
        "### Adjacency List"
      ]
    },
    {
      "cell_type": "code",
      "execution_count": null,
      "id": "promising-atlantic",
      "metadata": {
        "id": "promising-atlantic"
      },
      "outputs": [],
      "source": [
        "class Graph:\n",
        "    def __init__(self, num_nodes, edges):\n",
        "        self.data = [[] for _ in range(num_nodes)]\n",
        "        for v1, v2 in edges:\n",
        "            self.data[v1].append(v2)\n",
        "            self.data[v2].append(v1)\n",
        "            \n",
        "    def __repr__(self):\n",
        "        return \"\\n\".join([\"{} : {}\".format(i, neighbors) for (i, neighbors) in enumerate(self.data)])\n",
        "\n",
        "    def __str__(self):\n",
        "        return repr(self)"
      ]
    },
    {
      "cell_type": "code",
      "execution_count": null,
      "id": "buried-brake",
      "metadata": {
        "id": "buried-brake"
      },
      "outputs": [],
      "source": [
        "g1 = Graph(num_nodes1, edges1)"
      ]
    },
    {
      "cell_type": "code",
      "execution_count": null,
      "id": "honey-tension",
      "metadata": {
        "id": "honey-tension",
        "outputId": "b5a170ed-654e-4403-bbae-8f94ab33383a"
      },
      "outputs": [
        {
          "data": {
            "text/plain": [
              "0 : [1, 4]\n",
              "1 : [0, 2, 4, 3]\n",
              "2 : [1, 3]\n",
              "3 : [2, 4, 1]\n",
              "4 : [3, 0, 1]"
            ]
          },
          "execution_count": 22,
          "metadata": {},
          "output_type": "execute_result"
        }
      ],
      "source": [
        "g1"
      ]
    },
    {
      "cell_type": "markdown",
      "id": "caroline-smile",
      "metadata": {
        "id": "caroline-smile"
      },
      "source": [
        "### Adjacency Matrix"
      ]
    },
    {
      "cell_type": "markdown",
      "id": "fifty-portland",
      "metadata": {
        "id": "fifty-portland"
      },
      "source": [
        "### Breadth First Search\n",
        "\n",
        "Complexity $O(m + n)$"
      ]
    },
    {
      "cell_type": "code",
      "execution_count": null,
      "id": "hairy-technique",
      "metadata": {
        "id": "hairy-technique"
      },
      "outputs": [],
      "source": [
        "def bfs(graph, source):\n",
        "    visited = [False] * len(graph.data)\n",
        "    queue = []\n",
        "    \n",
        "    visited[source] = True    \n",
        "    queue.append(source)\n",
        "    i = 0\n",
        "    \n",
        "    while i < len(queue):\n",
        "        for v in graph.data[queue[i]]:\n",
        "            if not visited[v]:\n",
        "                visited[v] = True\n",
        "                queue.append(v)\n",
        "        i += 1\n",
        "        \n",
        "    return queue"
      ]
    },
    {
      "cell_type": "code",
      "execution_count": null,
      "id": "deluxe-trust",
      "metadata": {
        "id": "deluxe-trust",
        "outputId": "020cd660-0ce4-40ae-a3d4-e176fa57bf8f"
      },
      "outputs": [
        {
          "data": {
            "text/plain": [
              "[3, 2, 4, 1, 0]"
            ]
          },
          "execution_count": 39,
          "metadata": {},
          "output_type": "execute_result"
        }
      ],
      "source": [
        "bfs(g1, 3)"
      ]
    },
    {
      "cell_type": "markdown",
      "id": "active-simon",
      "metadata": {
        "id": "active-simon"
      },
      "source": [
        "### Depth First Search"
      ]
    },
    {
      "cell_type": "code",
      "execution_count": null,
      "id": "august-passage",
      "metadata": {
        "id": "august-passage"
      },
      "outputs": [],
      "source": [
        "def dfs(graph, source):\n",
        "    visited = [False] * len(graph.data)\n",
        "    stack = [source]\n",
        "    result = []\n",
        "    \n",
        "    while len(stack) > 0:\n",
        "        current = stack.pop()\n",
        "        if not visited[current]:\n",
        "            result.append(current)\n",
        "            visited[current] = True\n",
        "            for v in graph.data[current]:\n",
        "                stack.append(v)\n",
        "                \n",
        "    return result"
      ]
    },
    {
      "cell_type": "code",
      "execution_count": null,
      "id": "coordinate-public",
      "metadata": {
        "id": "coordinate-public",
        "outputId": "64f07a17-862d-45bd-a51e-f7d300921841"
      },
      "outputs": [
        {
          "data": {
            "text/plain": [
              "[0, 4, 1, 3, 2]"
            ]
          },
          "execution_count": 45,
          "metadata": {},
          "output_type": "execute_result"
        }
      ],
      "source": [
        "dfs(g1, 0)"
      ]
    },
    {
      "cell_type": "code",
      "execution_count": null,
      "id": "funded-insert",
      "metadata": {
        "id": "funded-insert"
      },
      "outputs": [],
      "source": [
        ""
      ]
    },
    {
      "cell_type": "code",
      "execution_count": null,
      "id": "compliant-passing",
      "metadata": {
        "id": "compliant-passing"
      },
      "outputs": [],
      "source": [
        ""
      ]
    },
    {
      "cell_type": "markdown",
      "id": "lasting-directory",
      "metadata": {
        "id": "lasting-directory"
      },
      "source": [
        "### Directed and Weighted Graph"
      ]
    },
    {
      "cell_type": "code",
      "execution_count": null,
      "id": "olympic-bridge",
      "metadata": {
        "id": "olympic-bridge"
      },
      "outputs": [],
      "source": [
        "class Graph:\n",
        "    def __init__(self, num_nodes, edges, directed=False):\n",
        "        self.data = [[] for _ in range(num_nodes)]\n",
        "        self.weight = [[] for _ in range(num_nodes)]\n",
        "        \n",
        "        self.directed = directed\n",
        "        self.weighted = len(edges) > 0 and len(edges[0]) == 3\n",
        "            \n",
        "        for e in edges:\n",
        "            self.data[e[0]].append(e[1])\n",
        "            if self.weighted:\n",
        "                self.weight[e[0]].append(e[2])\n",
        "            \n",
        "            if not directed:\n",
        "                self.data[e[1]].append(e[0])\n",
        "                if self.weighted:\n",
        "                    self.data[e[1]].append(e[2])\n",
        "                \n",
        "    def __repr__(self):\n",
        "        result = \"\"\n",
        "        for i in range(len(self.data)):\n",
        "            pairs = list(zip(self.data[i], self.weight[i]))\n",
        "            result += \"{}: {}\\n\".format(i, pairs)\n",
        "        return result\n",
        "\n",
        "    def __str__(self):\n",
        "        return repr(self)"
      ]
    },
    {
      "cell_type": "code",
      "execution_count": null,
      "id": "monthly-vatican",
      "metadata": {
        "id": "monthly-vatican"
      },
      "outputs": [],
      "source": [
        "g7 = Graph(num_nodes7, edges7, directed=True)"
      ]
    },
    {
      "cell_type": "code",
      "execution_count": null,
      "id": "entertaining-soundtrack",
      "metadata": {
        "id": "entertaining-soundtrack",
        "outputId": "1ab0072a-c696-418f-e83d-fe0dd85a4af8"
      },
      "outputs": [
        {
          "data": {
            "text/plain": [
              "0: [(1, 4), (2, 2)]\n",
              "1: [(2, 5), (3, 10)]\n",
              "2: [(4, 3)]\n",
              "3: [(5, 11)]\n",
              "4: [(3, 4)]\n",
              "5: []"
            ]
          },
          "execution_count": 69,
          "metadata": {},
          "output_type": "execute_result"
        }
      ],
      "source": [
        "g7"
      ]
    },
    {
      "cell_type": "code",
      "execution_count": null,
      "id": "related-senator",
      "metadata": {
        "id": "related-senator",
        "outputId": "1a552e03-6fde-43f2-89f3-0b191303eb67"
      },
      "outputs": [
        {
          "data": {
            "text/plain": [
              "[2, 10, 3, 11, 4, []]"
            ]
          },
          "execution_count": 61,
          "metadata": {},
          "output_type": "execute_result"
        }
      ],
      "source": [
        "g7.weight"
      ]
    },
    {
      "cell_type": "markdown",
      "id": "confident-rochester",
      "metadata": {
        "id": "confident-rochester"
      },
      "source": [
        "### Shortest Path - Dijkstra's Algorithm"
      ]
    },
    {
      "cell_type": "code",
      "execution_count": null,
      "id": "pursuant-bedroom",
      "metadata": {
        "id": "pursuant-bedroom"
      },
      "outputs": [],
      "source": [
        "def update_distances(graph, current, distance, parent=None):\n",
        "    \"\"\"Update the distances of the current node's neighbors\"\"\"\n",
        "    neighbors = graph.data[current]\n",
        "    weights = graph.weight[current]\n",
        "    for i, node in enumerate(neighbors):\n",
        "        weight = weights[i]\n",
        "        if distance[current] + weight < distance[node]:\n",
        "            distance[node] = distance[current] + weight\n",
        "            if parent:\n",
        "                parent[node] = current\n",
        "\n",
        "def pick_next_node(distance, visited):\n",
        "    \"\"\"Pick the next univisited node at the smallest distance\"\"\"\n",
        "    min_distance = float('inf')\n",
        "    min_node = None\n",
        "    for node in range(len(distance)):\n",
        "        if not visited[node] and distance[node] < min_distance:\n",
        "            min_node = node\n",
        "            min_distance = distance[node]\n",
        "    return min_node\n",
        "        \n",
        "def shortest_path(graph, source, dest):\n",
        "    \"\"\"Find the length of the shortest path between source and destination\"\"\"\n",
        "    visited = [False] * len(graph.data)\n",
        "    distance = [float('inf')] * len(graph.data)\n",
        "    parent = [None] * len(graph.data)\n",
        "    queue = []\n",
        "    idx = 0\n",
        "    \n",
        "    queue.append(source)\n",
        "    distance[source] = 0\n",
        "    visited[source] = True\n",
        "    \n",
        "    while idx < len(queue) and not visited[dest]:\n",
        "        current = queue[idx]\n",
        "        update_distances(graph, current, distance, parent)\n",
        "        \n",
        "        next_node = pick_next_node(distance, visited)\n",
        "        if next_node is not None:\n",
        "            visited[next_node] = True\n",
        "            queue.append(next_node)\n",
        "        idx += 1\n",
        "        \n",
        "    return distance[dest], distance, parent"
      ]
    },
    {
      "cell_type": "markdown",
      "id": "celtic-tension",
      "metadata": {
        "id": "celtic-tension"
      },
      "source": [
        "<img src=\"https://i.imgur.com/Zn5cUkO.png\" width=\"400\">"
      ]
    },
    {
      "cell_type": "code",
      "execution_count": null,
      "id": "grand-barbados",
      "metadata": {
        "id": "grand-barbados",
        "outputId": "206e6761-3c70-4794-c281-f3bf6023b468"
      },
      "outputs": [
        {
          "data": {
            "text/plain": [
              "(20, [0, 4, 2, 9, 5, 20], [None, 0, 0, 4, 2, 3])"
            ]
          },
          "execution_count": 84,
          "metadata": {},
          "output_type": "execute_result"
        }
      ],
      "source": [
        "shortest_path(g7, 0, 5)"
      ]
    },
    {
      "cell_type": "code",
      "execution_count": null,
      "id": "quick-header",
      "metadata": {
        "id": "quick-header"
      },
      "outputs": [],
      "source": [
        ""
      ]
    },
    {
      "cell_type": "code",
      "execution_count": null,
      "id": "wicked-desert",
      "metadata": {
        "id": "wicked-desert"
      },
      "outputs": [],
      "source": [
        ""
      ]
    },
    {
      "cell_type": "code",
      "execution_count": null,
      "id": "rocky-ready",
      "metadata": {
        "id": "rocky-ready"
      },
      "outputs": [],
      "source": [
        ""
      ]
    },
    {
      "cell_type": "code",
      "execution_count": null,
      "id": "labeled-watch",
      "metadata": {
        "id": "labeled-watch"
      },
      "outputs": [],
      "source": [
        ""
      ]
    },
    {
      "cell_type": "code",
      "execution_count": null,
      "id": "advanced-decrease",
      "metadata": {
        "id": "advanced-decrease"
      },
      "outputs": [],
      "source": [
        "import jovian"
      ]
    },
    {
      "cell_type": "code",
      "execution_count": null,
      "id": "injured-juice",
      "metadata": {
        "id": "injured-juice",
        "outputId": "765fbaf6-0bdb-40d7-8348-2da823d02c62"
      },
      "outputs": [
        {
          "data": {
            "application/javascript": [
              "window.require && require([\"base/js/namespace\"],function(Jupyter){Jupyter.notebook.save_checkpoint()})"
            ],
            "text/plain": [
              "<IPython.core.display.Javascript object>"
            ]
          },
          "metadata": {},
          "output_type": "display_data"
        },
        {
          "name": "stdout",
          "output_type": "stream",
          "text": [
            "[jovian] Attempting to save notebook..\u001b[0m\n"
          ]
        }
      ],
      "source": [
        "jovian.commit()"
      ]
    },
    {
      "cell_type": "code",
      "execution_count": null,
      "id": "international-motor",
      "metadata": {
        "id": "international-motor"
      },
      "outputs": [],
      "source": [
        ""
      ]
    }
  ],
  "metadata": {
    "kernelspec": {
      "display_name": "Python 3 (ipykernel)",
      "language": "python",
      "name": "python3"
    },
    "language_info": {
      "codemirror_mode": {
        "name": "ipython",
        "version": 3
      },
      "file_extension": ".py",
      "mimetype": "text/x-python",
      "name": "python",
      "nbconvert_exporter": "python",
      "pygments_lexer": "ipython3",
      "version": "3.9.6"
    },
    "colab": {
      "name": "05_python-graph-algorithms.ipynb",
      "provenance": [],
      "collapsed_sections": [],
      "include_colab_link": true
    }
  },
  "nbformat": 4,
  "nbformat_minor": 5
}
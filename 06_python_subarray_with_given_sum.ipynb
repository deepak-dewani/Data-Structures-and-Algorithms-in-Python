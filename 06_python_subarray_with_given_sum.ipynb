{
  "cells": [
    {
      "cell_type": "markdown",
      "metadata": {
        "id": "view-in-github",
        "colab_type": "text"
      },
      "source": [
        "<a href=\"https://colab.research.google.com/github/deepak-dewani/Data-Structures-and-Algorithms-in-Python/blob/main/06_python_subarray_with_given_sum.ipynb\" target=\"_parent\"><img src=\"https://colab.research.google.com/assets/colab-badge.svg\" alt=\"Open In Colab\"/></a>"
      ]
    },
    {
      "cell_type": "code",
      "execution_count": null,
      "id": "9a6af996",
      "metadata": {
        "id": "9a6af996"
      },
      "outputs": [],
      "source": [
        "# Jovian Commit Essentials\n",
        "# Please retain and execute this cell without modifying the contents for `jovian.commit` to work\n",
        "!pip install jovian --upgrade -q\n",
        "import jovian\n",
        "jovian.set_project('python-subarray-with-given-sum')\n",
        "jovian.set_colab_id('1vNLy43bJC3HjTIk9ScIvwd8dFdKm8jrf')"
      ]
    },
    {
      "cell_type": "markdown",
      "id": "f10f645b",
      "metadata": {
        "id": "f10f645b"
      },
      "source": [
        "# Subarray with Given Sum\n",
        "\n",
        "The following question was asked during a coding interview for Amazon:\n",
        "\n",
        "> You are given an array of numbers (non-negative). Find a continuous subarray of the list which adds up to a given sum. \n",
        "\n",
        "\n",
        "![](https://i.imgur.com/tLEBF7x.png)"
      ]
    },
    {
      "cell_type": "code",
      "execution_count": null,
      "id": "225c3338",
      "metadata": {
        "id": "225c3338"
      },
      "outputs": [],
      "source": [
        "# Solve the problem here\n",
        "\n",
        "# Defining the problem in plain english or simple language.\n",
        "\n",
        "'''\n",
        "We are given with the array of list of number which are non-negative, \n",
        "and we need to find the continuous subarray of list which adds up to the given sum.\n",
        "\n",
        "\n",
        "'''\n",
        "\n",
        "# Our simple foundation function.\n",
        "def subarray_sum(arr, target):\n",
        "    pass\n",
        "\n",
        "# Hence inputs and outputs are\n",
        "\"\"\"\n",
        "input = list of array e.g [1,5,9, 8,10, 11, 55]\n",
        "\n",
        "ouptut = index from which sum of subarray is equal to the output e.g (2, 6)\n",
        " \"\"\"\n",
        "\n",
        "\n",
        "\n",
        "# Next step Defining the various test cases\n",
        "'''\n",
        "1. the generic case which is given in the problem\n",
        "2. subarray is at start\n",
        "3. subarray is at end\n",
        "4. single element\n",
        "5. no subarray exist\n",
        "6. empty list\n",
        "7. more than one subarray\n",
        "'''\n",
        " \n",
        "# Solving the problem using brute force solution.\n"
      ]
    },
    {
      "cell_type": "code",
      "execution_count": null,
      "id": "7abfea75",
      "metadata": {
        "id": "7abfea75"
      },
      "outputs": [],
      "source": [
        "# Test the solution here\n",
        "\n"
      ]
    },
    {
      "cell_type": "code",
      "execution_count": null,
      "id": "c90d6f2c",
      "metadata": {
        "id": "c90d6f2c"
      },
      "outputs": [],
      "source": [
        ""
      ]
    },
    {
      "cell_type": "code",
      "execution_count": null,
      "id": "db83d54c",
      "metadata": {
        "id": "db83d54c"
      },
      "outputs": [],
      "source": [
        ""
      ]
    },
    {
      "cell_type": "code",
      "execution_count": null,
      "id": "38b51305",
      "metadata": {
        "id": "38b51305"
      },
      "outputs": [],
      "source": [
        "import jovian"
      ]
    },
    {
      "cell_type": "code",
      "execution_count": null,
      "id": "79582c05",
      "metadata": {
        "id": "79582c05",
        "outputId": "2bccd923-dddc-409b-8640-e5975ec7a99f"
      },
      "outputs": [
        {
          "data": {
            "application/javascript": [
              "window.require && require([\"base/js/namespace\"],function(Jupyter){Jupyter.notebook.save_checkpoint()})"
            ],
            "text/plain": [
              "<IPython.core.display.Javascript object>"
            ]
          },
          "metadata": {},
          "output_type": "display_data"
        }
      ],
      "source": [
        "jovian.commit()"
      ]
    },
    {
      "cell_type": "code",
      "execution_count": null,
      "id": "88b88e9c",
      "metadata": {
        "id": "88b88e9c"
      },
      "outputs": [],
      "source": [
        ""
      ]
    },
    {
      "cell_type": "code",
      "execution_count": null,
      "id": "09596943",
      "metadata": {
        "id": "09596943"
      },
      "outputs": [],
      "source": [
        ""
      ]
    },
    {
      "cell_type": "code",
      "execution_count": null,
      "id": "df8bf5e4",
      "metadata": {
        "id": "df8bf5e4"
      },
      "outputs": [],
      "source": [
        ""
      ]
    },
    {
      "cell_type": "markdown",
      "id": "1ab709d1",
      "metadata": {
        "id": "1ab709d1"
      },
      "source": [
        "## Solution\n",
        "\n",
        "Test case:"
      ]
    },
    {
      "cell_type": "code",
      "execution_count": null,
      "id": "7b69215e",
      "metadata": {
        "id": "7b69215e"
      },
      "outputs": [],
      "source": [
        "arr1 = [1, 7, 4, 2, 1, 3, 11, 5]\n",
        "target1 = 10"
      ]
    },
    {
      "cell_type": "markdown",
      "id": "52a4e9db",
      "metadata": {
        "id": "52a4e9db"
      },
      "source": [
        "Brute force $O(n^3)$:"
      ]
    },
    {
      "cell_type": "code",
      "execution_count": null,
      "id": "70d0edb8",
      "metadata": {
        "id": "70d0edb8"
      },
      "outputs": [],
      "source": [
        "def subarray_sum1(arr, target):\n",
        "    n = len(arr)\n",
        "    for i in range(n):\n",
        "        for j in range(i, n+1):\n",
        "            if sum(arr[i:j]) == target:\n",
        "                return i, j\n",
        "    return None, None"
      ]
    },
    {
      "cell_type": "code",
      "execution_count": null,
      "id": "776d8557",
      "metadata": {
        "id": "776d8557",
        "outputId": "20bfa9c2-3289-41da-b291-8a40f8346969"
      },
      "outputs": [
        {
          "data": {
            "text/plain": [
              "(2, 6, [4, 2, 1, 3])"
            ]
          },
          "execution_count": 17,
          "metadata": {},
          "output_type": "execute_result"
        }
      ],
      "source": [
        "i, j = subarray_sum1(arr1, target1)\n",
        "i, j, arr1[i:j]"
      ]
    },
    {
      "cell_type": "markdown",
      "id": "24f2f7a0",
      "metadata": {
        "id": "24f2f7a0"
      },
      "source": [
        "Better brute force $O(n^2)$:"
      ]
    },
    {
      "cell_type": "code",
      "execution_count": null,
      "id": "ad2a7ec9",
      "metadata": {
        "id": "ad2a7ec9"
      },
      "outputs": [],
      "source": [
        "def subarray_sum2(arr, target):\n",
        "    n = len(arr)\n",
        "    for i in range(n):\n",
        "        s = 0\n",
        "        for j in range(i, n+1):\n",
        "            if s == target:\n",
        "                return i,j\n",
        "            s += arr[j]\n",
        "    return None, None"
      ]
    },
    {
      "cell_type": "code",
      "execution_count": null,
      "id": "b3cdd9f0",
      "metadata": {
        "id": "b3cdd9f0",
        "outputId": "7d4ce7b1-0301-4c2f-b41c-0fd614d87897"
      },
      "outputs": [
        {
          "data": {
            "text/plain": [
              "(2, 6, [4, 2, 1, 3])"
            ]
          },
          "execution_count": 19,
          "metadata": {},
          "output_type": "execute_result"
        }
      ],
      "source": [
        "i, j = subarray_sum2(arr1, target1)\n",
        "i, j, arr1[i:j]"
      ]
    },
    {
      "cell_type": "markdown",
      "id": "8e31d208",
      "metadata": {
        "id": "8e31d208"
      },
      "source": [
        "Greedy algorithm $O(n)$:"
      ]
    },
    {
      "cell_type": "code",
      "execution_count": null,
      "id": "a7c449e9",
      "metadata": {
        "id": "a7c449e9"
      },
      "outputs": [],
      "source": [
        "def subarray_sum3(arr, target):\n",
        "    n = len(arr)\n",
        "    i, j, s = 0, 0, 0\n",
        "    while i < n and j <= n:\n",
        "        if s == target:\n",
        "            return i, j\n",
        "        elif s < target:\n",
        "            s += arr[j]\n",
        "            j += 1\n",
        "        elif s > target:\n",
        "            s -= arr[i]\n",
        "            i += 1\n",
        "    return None, None\n",
        "        "
      ]
    },
    {
      "cell_type": "code",
      "execution_count": null,
      "id": "3c873980",
      "metadata": {
        "id": "3c873980",
        "outputId": "bfea2a70-15fd-45bd-fb24-7e8d80e3d5fb"
      },
      "outputs": [
        {
          "data": {
            "text/plain": [
              "(2, 6, [4, 2, 1, 3])"
            ]
          },
          "execution_count": 25,
          "metadata": {},
          "output_type": "execute_result"
        }
      ],
      "source": [
        "i, j = subarray_sum3(arr1, target1)\n",
        "i, j, arr1[i:j]"
      ]
    },
    {
      "cell_type": "code",
      "execution_count": null,
      "id": "ef583c53",
      "metadata": {
        "id": "ef583c53"
      },
      "outputs": [],
      "source": [
        ""
      ]
    }
  ],
  "metadata": {
    "kernelspec": {
      "display_name": "Python 3",
      "language": "python",
      "name": "python3"
    },
    "language_info": {
      "codemirror_mode": {
        "name": "ipython",
        "version": 3
      },
      "file_extension": ".py",
      "mimetype": "text/x-python",
      "name": "python",
      "nbconvert_exporter": "python",
      "pygments_lexer": "ipython3",
      "version": "3.8.6"
    },
    "colab": {
      "name": "06_python-subarray-with-given-sum.ipynb",
      "provenance": [],
      "collapsed_sections": [],
      "include_colab_link": true
    }
  },
  "nbformat": 4,
  "nbformat_minor": 5
}